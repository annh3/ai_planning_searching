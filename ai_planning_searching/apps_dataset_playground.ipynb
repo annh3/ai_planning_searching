{
 "cells": [
  {
   "cell_type": "code",
   "execution_count": 1,
   "id": "5b7996fe-39b6-44ee-acca-bce6633e684b",
   "metadata": {},
   "outputs": [
    {
     "name": "stderr",
     "output_type": "stream",
     "text": [
      "2024-09-19 15:57:46.925295: I tensorflow/core/platform/cpu_feature_guard.cc:182] This TensorFlow binary is optimized to use available CPU instructions in performance-critical operations.\n",
      "To enable the following instructions: SSE4.1 SSE4.2 AVX AVX2 FMA, in other operations, rebuild TensorFlow with the appropriate compiler flags.\n",
      "/Users/annhe/anaconda3/envs/agency/lib/python3.10/site-packages/transformers/tokenization_utils_base.py:1601: FutureWarning: `clean_up_tokenization_spaces` was not set. It will be set to `True` by default. This behavior will be depracted in transformers v4.45, and will be then set to `False` by default. For more details check this issue: https://github.com/huggingface/transformers/issues/31884\n",
      "  warnings.warn(\n"
     ]
    }
   ],
   "source": [
    "from mlcroissant import Dataset\n",
    "import json\n",
    "import numpy as np\n",
    "import torch\n",
    "import collections\n",
    "import transformers\n",
    "from transformers import pipeline, set_seed\n",
    "from datasets import load_dataset\n",
    "\n",
    "tokenizer = transformers.AutoTokenizer.from_pretrained('gpt2')\n",
    "lm = transformers.AutoModelForCausalLM.from_pretrained('gpt2')"
   ]
  },
  {
   "cell_type": "code",
   "execution_count": 2,
   "id": "7009243d-ea54-465e-b196-c6cbdaf89cc3",
   "metadata": {},
   "outputs": [
    {
     "name": "stderr",
     "output_type": "stream",
     "text": [
      "Using the latest cached version of the module from /Users/annhe/.cache/huggingface/modules/datasets_modules/datasets/codeparrot--apps/04ac807715d07d6e5cc580f59cdc8213cd7dc4529d0bb819cca72c9f8e8c1aa5 (last modified on Fri Aug 23 16:36:14 2024) since it couldn't be found locally at codeparrot/apps, or remotely on the Hugging Face Hub.\n"
     ]
    }
   ],
   "source": [
    "ds = load_dataset(\"codeparrot/apps\", split=\"train[:1%]\")\n",
    "sample = next(iter(ds))\n",
    "\n"
   ]
  },
  {
   "cell_type": "code",
   "execution_count": 3,
   "id": "79bd4104-fa8b-4e2f-8c07-c2116ed32586",
   "metadata": {},
   "outputs": [
    {
     "name": "stdout",
     "output_type": "stream",
     "text": [
      "50\n"
     ]
    }
   ],
   "source": [
    "print(len(ds))"
   ]
  },
  {
   "cell_type": "code",
   "execution_count": 4,
   "id": "a60928ae-78ea-459b-97fa-8674d0287700",
   "metadata": {},
   "outputs": [],
   "source": [
    "ds_pandas = ds.to_pandas()"
   ]
  },
  {
   "cell_type": "code",
   "execution_count": 5,
   "id": "799fd7f5-46f8-4a40-b993-042a06a0f5dd",
   "metadata": {},
   "outputs": [],
   "source": [
    "df_row = ds_pandas.iloc[0]"
   ]
  },
  {
   "cell_type": "code",
   "execution_count": 6,
   "id": "b1c305b1-6f1e-4eae-a19e-5c31467fb2fc",
   "metadata": {},
   "outputs": [
    {
     "name": "stdout",
     "output_type": "stream",
     "text": [
      "problem_id                                                      0\n",
      "question        Polycarp has $n$ different binary words. A wor...\n",
      "solutions       [\"for _ in range(int(input())):\\n    n = int(i...\n",
      "input_output    {\\n  \"inputs\": [\\n    \"4\\n4\\n0001\\n1000\\n0011\\...\n",
      "difficulty                                              interview\n",
      "url              https://codeforces.com/problemset/problem/1259/D\n",
      "starter_code                                                     \n",
      "Name: 0, dtype: object\n"
     ]
    }
   ],
   "source": [
    "print(df_row)"
   ]
  },
  {
   "cell_type": "code",
   "execution_count": 7,
   "id": "9845c97a-9629-4ef0-ae45-3ae95b9f02e8",
   "metadata": {},
   "outputs": [
    {
     "name": "stdout",
     "output_type": "stream",
     "text": [
      "Polycarp has $n$ different binary words. A word called binary if it contains only characters '0' and '1'. For example, these words are binary: \"0001\", \"11\", \"0\" and \"0011100\".\n",
      "\n",
      "Polycarp wants to offer his set of $n$ binary words to play a game \"words\". In this game, players name words and each next word (starting from the second) must start with the last character of the previous word. The first word can be any. For example, these sequence of words can be named during the game: \"0101\", \"1\", \"10\", \"00\", \"00001\".\n",
      "\n",
      "Word reversal is the operation of reversing the order of the characters. For example, the word \"0111\" after the reversal becomes \"1110\", the word \"11010\" after the reversal becomes \"01011\".\n",
      "\n",
      "Probably, Polycarp has such a set of words that there is no way to put them in the order correspondent to the game rules. In this situation, he wants to reverse some words from his set so that:  the final set of $n$ words still contains different words (i.e. all words are unique);  there is a way to put all words of the final set of words in the order so that the final sequence of $n$ words is consistent with the game rules. \n",
      "\n",
      "Polycarp wants to reverse minimal number of words. Please, help him.\n",
      "\n",
      "\n",
      "-----Input-----\n",
      "\n",
      "The first line of the input contains one integer $t$ ($1 \\le t \\le 10^4$) — the number of test cases in the input. Then $t$ test cases follow.\n",
      "\n",
      "The first line of a test case contains one integer $n$ ($1 \\le n \\le 2\\cdot10^5$) — the number of words in the Polycarp's set. Next $n$ lines contain these words. All of $n$ words aren't empty and contains only characters '0' and '1'. The sum of word lengths doesn't exceed $4\\cdot10^6$. All words are different.\n",
      "\n",
      "Guaranteed, that the sum of $n$ for all test cases in the input doesn't exceed $2\\cdot10^5$. Also, guaranteed that the sum of word lengths for all test cases in the input doesn't exceed $4\\cdot10^6$.\n",
      "\n",
      "\n",
      "-----Output-----\n",
      "\n",
      "Print answer for all of $t$ test cases in the order they appear.\n",
      "\n",
      "If there is no answer for the test case, print -1. Otherwise, the first line of the output should contain $k$ ($0 \\le k \\le n$) — the minimal number of words in the set which should be reversed. The second line of the output should contain $k$ distinct integers — the indexes of the words in the set which should be reversed. Words are numerated from $1$ to $n$ in the order they appear. If $k=0$ you can skip this line (or you can print an empty line). If there are many answers you can print any of them.\n",
      "\n",
      "\n",
      "-----Example-----\n",
      "Input\n",
      "4\n",
      "4\n",
      "0001\n",
      "1000\n",
      "0011\n",
      "0111\n",
      "3\n",
      "010\n",
      "101\n",
      "0\n",
      "2\n",
      "00000\n",
      "00001\n",
      "4\n",
      "01\n",
      "001\n",
      "0001\n",
      "00001\n",
      "\n",
      "Output\n",
      "1\n",
      "3 \n",
      "-1\n",
      "0\n",
      "\n",
      "2\n",
      "1 2\n"
     ]
    }
   ],
   "source": [
    "print(df_row['question'])"
   ]
  },
  {
   "cell_type": "code",
   "execution_count": 8,
   "id": "0f2d2a8a-73bf-4a4f-8315-2ce8139e85b3",
   "metadata": {},
   "outputs": [
    {
     "name": "stdout",
     "output_type": "stream",
     "text": [
      "dict_keys(['problem_id', 'question', 'solutions', 'input_output', 'difficulty', 'url', 'starter_code'])\n"
     ]
    }
   ],
   "source": [
    "print(sample.keys())"
   ]
  },
  {
   "cell_type": "code",
   "execution_count": 9,
   "id": "fbf0ad14-c7d7-43aa-b544-0cd02328dee3",
   "metadata": {},
   "outputs": [
    {
     "name": "stdout",
     "output_type": "stream",
     "text": [
      "<class 'str'>\n",
      "[\"for _ in range(int(input())):\\n    n = int(input())\\n    mass = []\\n    zo = 0\\n    oz = 0\\n    zz = 0\\n    oo = 0\\n    ozs = []\\n    zos = []\\n    ozss = set()\\n    zoss = set()\\n    for j in range(n):\\n        k = input()\\n        mass.append(k)\\n        if k[0] == '0' and k[-1] == '1':\\n            zoss.add(k)\\n            zos.append(j + 1)\\n            zo += 1\\n        elif k[0] == '1' and k[-1] == '0':\\n            ozss.add(k)\\n            ozs.append(j + 1)\\n            oz += 1\\n        elif k[0] == '0' and k[-1] == '0':\\n            zz += 1\\n        else:\\n            oo += 1\\n    if zz and oo and not oz and not zo:\\n        print(-1)\\n        continue\\n    else:\\n        if zo > oz:\\n            print((zo - oz) // 2)\\n            ans = []\\n            need = (zo - oz) // 2\\n            i = 0\\n            while need:\\n                zzz = mass[zos[i] - 1][len(mass[zos[i] - 1]) - 1:: -1]\\n                if zzz not in ozss:\\n                    ans.append(zos[i])\\n                    need -= 1\\n                i += 1\\n            print(*ans)\\n        else:\\n            print((oz - zo) // 2)\\n            ans = []\\n            need = (oz - zo) // 2\\n            i = 0\\n            while need:\\n                zzz = mass[ozs[i] - 1][len(mass[ozs[i] - 1]) - 1:: -1]\\n                if zzz not in zoss:\\n                    ans.append(ozs[i])\\n                    need -= 1\\n                i += 1\\n            print(*ans)\\n\", \"k = int(input())\\nfor i in range(k):\\n    is_t = set()\\n    a = dict()\\n    a['00'] = []\\n    a['11'] = []\\n    a['01'] = []\\n    a['10'] = []    \\n    n = int(input())\\n    s = []\\n    for i in range(n):\\n        b = input()\\n        a[b[0] + b[-1]].append(i)\\n        s.append(b)\\n        is_t.add(b)\\n    c = len(a['10'])\\n    d = len(a['01'])\\n    if c + d == 0:\\n        if len(a['00']) == 0 or len(a['11']) == 0:\\n            print(0)\\n        else:\\n            print(-1)\\n    elif c > d:\\n        ans = []\\n        i = 0\\n        m = (d + c) // 2\\n        while d != m and i < len(a['10']):\\n            s1 = s[a['10'][i]]\\n            if s1[::-1] not in is_t:\\n                d += 1\\n                ans.append(a['10'][i] + 1)\\n            i += 1\\n        if d != m:\\n            print(-1)\\n        else:\\n            print(len(ans))\\n            print(*ans)\\n    else:\\n        ans = []\\n        i = 0\\n        m = (d + c) // 2\\n        while c != m and i < len(a['01']):\\n            s1 = s[a['01'][i]]\\n            if s1[::-1] not in is_t:\\n                c += 1\\n                ans.append(a['01'][i] + 1)\\n            i += 1\\n        if c != m:\\n            print(-1)\\n        else:\\n            print(len(ans))\\n            print(*ans)\\n\", \"N = int(input())\\n\\ndef ceildiv(x, y):\\n    if x % y == 0:\\n        return x // y\\n    else:\\n        return x // y + 1\\n\\nfor _ in range(N):\\n    doms = []\\n    oc, zc = 0, 0\\n    n = int(input())\\n\\n    used = set()\\n    fulls = dict()\\n\\n    for i in range(n):\\n        d = input()\\n        used.add(d)\\n        if d[0] != d[-1]:\\n            fulls[i] = d\\n            doms.append((i, (d[0], d[-1])))\\n        else:\\n            if d[0] == '0':\\n                zc = 1\\n            else:\\n                oc = 1\\n\\n    if len(doms) == 0:\\n        if zc == 1 and oc == 1:\\n            print(-1)\\n        else:\\n            print(0)\\n    else:\\n        # print(doms)\\n\\n        _01 = 0\\n        _10 = 0\\n\\n        _01_indexes = []\\n        _10_indexes = []\\n\\n\\n        for dom in doms:\\n            if dom[1] == ('0', '1'):\\n                _01 += 1\\n                _01_indexes.append(dom[0])\\n            else:\\n                _10 += 1\\n                _10_indexes.append(dom[0])\\n\\n        if _10 < _01:\\n            _01, _10 = _10, _01\\n            _01_indexes, _10_indexes = _10_indexes, _01_indexes\\n\\n        _10_indexes = [x for x in _10_indexes if fulls[x][::-1] not in used] \\n\\n        need = ceildiv(_10-_01-1, 2)\\n        if len(_10_indexes) >= need:\\n            print(need)\\n            print( ' '.join(list([str(x+1) for x in _10_indexes[:need]])) )\\n        else:\\n            print(-1)\\n\\n    # print(\\\"===\\\")\\n        # print(ceil(abs(doms.count(('0', '1')) - doms.count(('1', '0'))) - 1, 2))\\n\\n\", \"t=int(input())\\nfor _ in range(t):\\n    n=int(input())\\n    k={\\\"01\\\":0,\\\"00\\\":0,\\\"11\\\":0,\\\"10\\\":0}\\n    ab=[]\\n    ba=[]\\n    a=[]\\n    ra=set()\\n    rb=set()\\n    for i in range(n):\\n        s=input()\\n        ts=s[0]+s[-1]\\n        k[ts]+=1\\n        if ts==\\\"01\\\":\\n            ab.append([str(i+1),s])\\n            ra.add(s)\\n        if ts==\\\"10\\\":\\n            ba.append([str(i+1),s])\\n            rb.add(s)\\n    if k[\\\"01\\\"]==0 and k[\\\"10\\\"]==0 and k[\\\"00\\\"]>0 and k[\\\"11\\\"]>0:\\n        ans=-1\\n    else:\\n        if k[\\\"01\\\"]==k[\\\"10\\\"] or k[\\\"01\\\"]==k[\\\"10\\\"]+1 or k[\\\"01\\\"]==k[\\\"10\\\"]-1:\\n            ans=0\\n        else:\\n            m=(k[\\\"01\\\"]+k[\\\"10\\\"])//2 if (k[\\\"01\\\"]+k[\\\"10\\\"])%2==0 else (k[\\\"01\\\"]+k[\\\"10\\\"])//2+1\\n            if k[\\\"01\\\"]>m:\\n                ans=k[\\\"01\\\"]-m\\n                for i in range(len(ab)):\\n                    psp=ab[i][1]\\n                    nn=list(psp)\\n                    nn.reverse()\\n                    psp=\\\"\\\".join(nn)\\n                    c1=len(rb)\\n                    rb.add(psp)\\n                    c2=len(rb)\\n                    if c1!=c2:\\n                        a.append(ab[i][0])\\n                if len(a)>=ans:\\n                    a=a[:ans]\\n                else:\\n                    ans=-1\\n            else:\\n                ans=k[\\\"10\\\"]-m\\n                for i in range(len(ba)):\\n                    psp=ba[i][1]\\n                    nn=list(psp)\\n                    nn.reverse()\\n                    psp=\\\"\\\".join(nn)\\n                    c1=len(ra)\\n                    ra.add(psp)\\n                    c2=len(ra)\\n                    if c1!=c2:\\n                        a.append(ba[i][0])\\n                if len(a)>=ans:\\n                    a=a[:ans]\\n                else:\\n                    ans=-1\\n    print(ans)\\n    if ans>0:\\n        print(\\\" \\\".join(a))\\n\", \"t=int(input())\\nfor i in range(t):\\n    n=int(input())\\n    i0,i1=[],[]\\n    l0,l1=[],[]\\n    h0,h1=False,False\\n    for i in range(n):\\n        t=input()\\n        if t[0]=='0' and t[-1]=='1':\\n            i0.append(i)\\n            l0.append(t)\\n        elif t[0]=='1' and t[-1]=='0':\\n            i1.append(i)\\n            l1.append(t)\\n        elif t[0]==t[-1]=='1':\\n            h1=True\\n        elif t[0]==t[-1]=='0':\\n            h0=True\\n    c0,c1=len(l0),len(l1)\\n    req,sl=0,[]\\n    s0=set(l0)\\n    s1=set(l1)\\n    if c0>0 or c1>0:\\n        if c0-c1>1:\\n            req=(c0-c1)//2\\n            sel=0\\n            sl=[]\\n            for tt in range(len(l0)):\\n                t=l0[tt]\\n                if not t[::-1] in s1:\\n                    req-=1\\n                    sl.append(i0[tt]+1)\\n                if req==0:\\n                    break\\n        elif c1-c0>1:\\n            req=(c1-c0)//2\\n            sel=0\\n            sl=[]\\n            for tt in range(len(l1)):\\n                t=l1[tt]\\n                if not t[::-1] in s0:\\n                    req-=1\\n                    sl.append(i1[tt]+1)\\n                if req==0:\\n                    break\\n        if req>0:\\n            print(-1)\\n        else:\\n            print(len(sl))\\n            print(*sl)\\n    else:\\n        if h0 and h1:\\n            print(-1)\\n        else:\\n            print(0)\\n            print(*[])\\n\"]\n"
     ]
    }
   ],
   "source": [
    "print(type(sample[\"solutions\"]))\n",
    "solution = sample[\"solutions\"]\n",
    "print(solution)"
   ]
  },
  {
   "cell_type": "code",
   "execution_count": 10,
   "id": "0d6bfd0e-3a06-4651-9a5f-b22bac0c2ad5",
   "metadata": {},
   "outputs": [
    {
     "name": "stdout",
     "output_type": "stream",
     "text": [
      "{\n",
      "  \"inputs\": [\n",
      "    \"4\\n4\\n0001\\n1000\\n0011\\n0111\\n3\\n010\\n101\\n0\\n2\\n00000\\n00001\\n4\\n01\\n001\\n0001\\n00001\\n\"\n",
      "  ],\n",
      "  \"outputs\": [\n",
      "    \"1\\n3 \\n-1\\n0\\n\\n2\\n1 2 \\n\"\n",
      "  ]\n",
      "}\n"
     ]
    }
   ],
   "source": [
    "print(sample[\"input_output\"])"
   ]
  },
  {
   "cell_type": "code",
   "execution_count": 11,
   "id": "2c00c0ca-17e2-4cc3-b709-09c2de782432",
   "metadata": {},
   "outputs": [
    {
     "name": "stdin",
     "output_type": "stream",
     "text": [
      " 3\n"
     ]
    }
   ],
   "source": [
    "s = input()"
   ]
  },
  {
   "cell_type": "code",
   "execution_count": 12,
   "id": "f0aa4abd-165e-4625-a589-cd7c4d6b6e69",
   "metadata": {},
   "outputs": [],
   "source": [
    "program = \"print(s)\""
   ]
  },
  {
   "cell_type": "code",
   "execution_count": 13,
   "id": "9aad66bf-5e96-44a1-95f7-78d6f6f6d89d",
   "metadata": {},
   "outputs": [
    {
     "name": "stdout",
     "output_type": "stream",
     "text": [
      "3\n"
     ]
    }
   ],
   "source": [
    "exec(program)"
   ]
  },
  {
   "cell_type": "code",
   "execution_count": 14,
   "id": "0974a341-2897-409c-95ac-6a7cf34140e8",
   "metadata": {},
   "outputs": [],
   "source": [
    "# ok, you need to remove the beginning and end '[' and ']' and then trying to split by comma"
   ]
  },
  {
   "cell_type": "code",
   "execution_count": 15,
   "id": "67d22132-3bba-4f50-9120-3680183771ec",
   "metadata": {},
   "outputs": [
    {
     "name": "stdout",
     "output_type": "stream",
     "text": [
      "7488\n",
      "7486\n"
     ]
    }
   ],
   "source": [
    "solution = df_row = ds_pandas.iloc[0][\"solutions\"]\n",
    "print(len(solution))\n",
    "solution = solution[1:]\n",
    "solution = solution[:-1]\n",
    "print(len(solution))"
   ]
  },
  {
   "cell_type": "code",
   "execution_count": 16,
   "id": "172d12ee-2465-4a22-9ebe-8d3b75a86168",
   "metadata": {},
   "outputs": [],
   "source": [
    "solutions_list = solution.split(\"\\\", \\\"\")"
   ]
  },
  {
   "cell_type": "code",
   "execution_count": 17,
   "id": "c25a2e54-7cf8-4529-bca2-25d3d34449c4",
   "metadata": {},
   "outputs": [
    {
     "name": "stdout",
     "output_type": "stream",
     "text": [
      "5\n"
     ]
    }
   ],
   "source": [
    "print(len(solutions_list))"
   ]
  },
  {
   "cell_type": "code",
   "execution_count": 18,
   "id": "1f91aeb1-10c3-4b95-9d98-02a4191dd815",
   "metadata": {},
   "outputs": [],
   "source": [
    "test_string = \"hello\""
   ]
  },
  {
   "cell_type": "code",
   "execution_count": 19,
   "id": "248d29e8-8e9d-47da-809e-18c0b919c545",
   "metadata": {},
   "outputs": [
    {
     "name": "stdout",
     "output_type": "stream",
     "text": [
      "hello\n"
     ]
    }
   ],
   "source": [
    "print(test_string)"
   ]
  },
  {
   "cell_type": "code",
   "execution_count": 20,
   "id": "6001dd07-8913-43f1-886f-0efeddab07df",
   "metadata": {},
   "outputs": [
    {
     "name": "stdout",
     "output_type": "stream",
     "text": [
      "\"for _ in range(int(input())):\\n    n = int(input())\\n    mass = []\\n    zo = 0\\n    oz = 0\\n    zz = 0\\n    oo = 0\\n    ozs = []\\n    zos = []\\n    ozss = set()\\n    zoss = set()\\n    for j in range(n):\\n        k = input()\\n        mass.append(k)\\n        if k[0] == '0' and k[-1] == '1':\\n            zoss.add(k)\\n            zos.append(j + 1)\\n            zo += 1\\n        elif k[0] == '1' and k[-1] == '0':\\n            ozss.add(k)\\n            ozs.append(j + 1)\\n            oz += 1\\n        elif k[0] == '0' and k[-1] == '0':\\n            zz += 1\\n        else:\\n            oo += 1\\n    if zz and oo and not oz and not zo:\\n        print(-1)\\n        continue\\n    else:\\n        if zo > oz:\\n            print((zo - oz) // 2)\\n            ans = []\\n            need = (zo - oz) // 2\\n            i = 0\\n            while need:\\n                zzz = mass[zos[i] - 1][len(mass[zos[i] - 1]) - 1:: -1]\\n                if zzz not in ozss:\\n                    ans.append(zos[i])\\n                    need -= 1\\n                i += 1\\n            print(*ans)\\n        else:\\n            print((oz - zo) // 2)\\n            ans = []\\n            need = (oz - zo) // 2\\n            i = 0\\n            while need:\\n                zzz = mass[ozs[i] - 1][len(mass[ozs[i] - 1]) - 1:: -1]\\n                if zzz not in zoss:\\n                    ans.append(ozs[i])\\n                    need -= 1\\n                i += 1\\n            print(*ans)\\n\n"
     ]
    }
   ],
   "source": [
    "print(solutions_list[0])"
   ]
  },
  {
   "cell_type": "code",
   "execution_count": 21,
   "id": "5a385305-7923-4c02-856e-44be0120ffce",
   "metadata": {},
   "outputs": [
    {
     "name": "stdout",
     "output_type": "stream",
     "text": [
      "k = int(input())\\nfor i in range(k):\\n    is_t = set()\\n    a = dict()\\n    a['00'] = []\\n    a['11'] = []\\n    a['01'] = []\\n    a['10'] = []    \\n    n = int(input())\\n    s = []\\n    for i in range(n):\\n        b = input()\\n        a[b[0] + b[-1]].append(i)\\n        s.append(b)\\n        is_t.add(b)\\n    c = len(a['10'])\\n    d = len(a['01'])\\n    if c + d == 0:\\n        if len(a['00']) == 0 or len(a['11']) == 0:\\n            print(0)\\n        else:\\n            print(-1)\\n    elif c > d:\\n        ans = []\\n        i = 0\\n        m = (d + c) // 2\\n        while d != m and i < len(a['10']):\\n            s1 = s[a['10'][i]]\\n            if s1[::-1] not in is_t:\\n                d += 1\\n                ans.append(a['10'][i] + 1)\\n            i += 1\\n        if d != m:\\n            print(-1)\\n        else:\\n            print(len(ans))\\n            print(*ans)\\n    else:\\n        ans = []\\n        i = 0\\n        m = (d + c) // 2\\n        while c != m and i < len(a['01']):\\n            s1 = s[a['01'][i]]\\n            if s1[::-1] not in is_t:\\n                c += 1\\n                ans.append(a['01'][i] + 1)\\n            i += 1\\n        if c != m:\\n            print(-1)\\n        else:\\n            print(len(ans))\\n            print(*ans)\\n\n"
     ]
    }
   ],
   "source": [
    "print(solutions_list[1])"
   ]
  },
  {
   "cell_type": "code",
   "execution_count": 22,
   "id": "53097163-c956-4ec2-9811-4c7c650c5008",
   "metadata": {},
   "outputs": [
    {
     "name": "stdout",
     "output_type": "stream",
     "text": [
      "N = int(input())\\n\\ndef ceildiv(x, y):\\n    if x % y == 0:\\n        return x // y\\n    else:\\n        return x // y + 1\\n\\nfor _ in range(N):\\n    doms = []\\n    oc, zc = 0, 0\\n    n = int(input())\\n\\n    used = set()\\n    fulls = dict()\\n\\n    for i in range(n):\\n        d = input()\\n        used.add(d)\\n        if d[0] != d[-1]:\\n            fulls[i] = d\\n            doms.append((i, (d[0], d[-1])))\\n        else:\\n            if d[0] == '0':\\n                zc = 1\\n            else:\\n                oc = 1\\n\\n    if len(doms) == 0:\\n        if zc == 1 and oc == 1:\\n            print(-1)\\n        else:\\n            print(0)\\n    else:\\n        # print(doms)\\n\\n        _01 = 0\\n        _10 = 0\\n\\n        _01_indexes = []\\n        _10_indexes = []\\n\\n\\n        for dom in doms:\\n            if dom[1] == ('0', '1'):\\n                _01 += 1\\n                _01_indexes.append(dom[0])\\n            else:\\n                _10 += 1\\n                _10_indexes.append(dom[0])\\n\\n        if _10 < _01:\\n            _01, _10 = _10, _01\\n            _01_indexes, _10_indexes = _10_indexes, _01_indexes\\n\\n        _10_indexes = [x for x in _10_indexes if fulls[x][::-1] not in used] \\n\\n        need = ceildiv(_10-_01-1, 2)\\n        if len(_10_indexes) >= need:\\n            print(need)\\n            print( ' '.join(list([str(x+1) for x in _10_indexes[:need]])) )\\n        else:\\n            print(-1)\\n\\n    # print(\\\"===\\\")\\n        # print(ceil(abs(doms.count(('0', '1')) - doms.count(('1', '0'))) - 1, 2))\\n\\n\n"
     ]
    }
   ],
   "source": [
    "print(solutions_list[2])"
   ]
  },
  {
   "cell_type": "code",
   "execution_count": 23,
   "id": "42e6173b-4a4c-48f4-beaa-f0ef4e356d7e",
   "metadata": {},
   "outputs": [],
   "source": [
    "q_0_program_0 = \"for _ in range(int(input())):\\n    n = int(input())\\n    mass = []\\n    zo = 0\\n    oz = 0\\n    zz = 0\\n    oo = 0\\n    ozs = []\\n    zos = []\\n    ozss = set()\\n    zoss = set()\\n    for j in range(n):\\n        k = input()\\n        mass.append(k)\\n        if k[0] == '0' and k[-1] == '1':\\n            zoss.add(k)\\n            zos.append(j + 1)\\n            zo += 1\\n        elif k[0] == '1' and k[-1] == '0':\\n            ozss.add(k)\\n            ozs.append(j + 1)\\n            oz += 1\\n        elif k[0] == '0' and k[-1] == '0':\\n            zz += 1\\n        else:\\n            oo += 1\\n    if zz and oo and not oz and not zo:\\n        print(-1)\\n        continue\\n    else:\\n        if zo > oz:\\n            print((zo - oz) // 2)\\n            ans = []\\n            need = (zo - oz) // 2\\n            i = 0\\n            while need:\\n                zzz = mass[zos[i] - 1][len(mass[zos[i] - 1]) - 1:: -1]\\n                if zzz not in ozss:\\n                    ans.append(zos[i])\\n                    need -= 1\\n                i += 1\\n            print(*ans)\\n        else:\\n            print((oz - zo) // 2)\\n            ans = []\\n            need = (oz - zo) // 2\\n            i = 0\\n            while need:\\n                zzz = mass[ozs[i] - 1][len(mass[ozs[i] - 1]) - 1:: -1]\\n                if zzz not in zoss:\\n                    ans.append(ozs[i])\\n                    need -= 1\\n                i += 1\\n            print(*ans)\\n\""
   ]
  },
  {
   "cell_type": "code",
   "execution_count": 24,
   "id": "789a2fab-3eb4-404c-9d74-f7a1a0442cd5",
   "metadata": {},
   "outputs": [],
   "source": [
    "q_0_program_1 = \"k = int(input())\\nfor i in range(k):\\n    is_t = set()\\n    a = dict()\\n    a['00'] = []\\n    a['11'] = []\\n    a['01'] = []\\n    a['10'] = []    \\n    n = int(input())\\n    s = []\\n    for i in range(n):\\n        b = input()\\n        a[b[0] + b[-1]].append(i)\\n        s.append(b)\\n        is_t.add(b)\\n    c = len(a['10'])\\n    d = len(a['01'])\\n    if c + d == 0:\\n        if len(a['00']) == 0 or len(a['11']) == 0:\\n            print(0)\\n        else:\\n            print(-1)\\n    elif c > d:\\n        ans = []\\n        i = 0\\n        m = (d + c) // 2\\n        while d != m and i < len(a['10']):\\n            s1 = s[a['10'][i]]\\n            if s1[::-1] not in is_t:\\n                d += 1\\n                ans.append(a['10'][i] + 1)\\n            i += 1\\n        if d != m:\\n            print(-1)\\n        else:\\n            print(len(ans))\\n            print(*ans)\\n    else:\\n        ans = []\\n        i = 0\\n        m = (d + c) // 2\\n        while c != m and i < len(a['01']):\\n            s1 = s[a['01'][i]]\\n            if s1[::-1] not in is_t:\\n                c += 1\\n                ans.append(a['01'][i] + 1)\\n            i += 1\\n        if c != m:\\n            print(-1)\\n        else:\\n            print(len(ans))\\n            print(*ans)\\n\""
   ]
  },
  {
   "cell_type": "code",
   "execution_count": 25,
   "id": "c63c5126-85a5-4a62-a4c1-0c56e5013d17",
   "metadata": {},
   "outputs": [],
   "source": [
    "q_0_program_2 = \"N = int(input())\\n\\ndef ceildiv(x, y):\\n    if x % y == 0:\\n        return x // y\\n    else:\\n        return x // y + 1\\n\\nfor _ in range(N):\\n    doms = []\\n    oc, zc = 0, 0\\n    n = int(input())\\n\\n    used = set()\\n    fulls = dict()\\n\\n    for i in range(n):\\n        d = input()\\n        used.add(d)\\n        if d[0] != d[-1]:\\n            fulls[i] = d\\n            doms.append((i, (d[0], d[-1])))\\n        else:\\n            if d[0] == '0':\\n                zc = 1\\n            else:\\n                oc = 1\\n\\n    if len(doms) == 0:\\n        if zc == 1 and oc == 1:\\n            print(-1)\\n        else:\\n            print(0)\\n    else:\\n        # print(doms)\\n\\n        _01 = 0\\n        _10 = 0\\n\\n        _01_indexes = []\\n        _10_indexes = []\\n\\n\\n        for dom in doms:\\n            if dom[1] == ('0', '1'):\\n                _01 += 1\\n                _01_indexes.append(dom[0])\\n            else:\\n                _10 += 1\\n                _10_indexes.append(dom[0])\\n\\n        if _10 < _01:\\n            _01, _10 = _10, _01\\n            _01_indexes, _10_indexes = _10_indexes, _01_indexes\\n\\n        _10_indexes = [x for x in _10_indexes if fulls[x][::-1] not in used] \\n\\n        need = ceildiv(_10-_01-1, 2)\\n        if len(_10_indexes) >= need:\\n            print(need)\\n            print( ' '.join(list([str(x+1) for x in _10_indexes[:need]])) )\\n        else:\\n            print(-1)\\n\\n    # print(\\\"===\\\")\\n        # print(ceil(abs(doms.count(('0', '1')) - doms.count(('1', '0'))) - 1, 2))\\n\\n\""
   ]
  },
  {
   "cell_type": "code",
   "execution_count": 26,
   "id": "02338db1-7b39-491b-b0a5-8f61d0697d4a",
   "metadata": {},
   "outputs": [
    {
     "name": "stdin",
     "output_type": "stream",
     "text": [
      " 3\n",
      " 3\n",
      " 3\n",
      " 3\n",
      " 3\n"
     ]
    },
    {
     "name": "stdout",
     "output_type": "stream",
     "text": [
      "0\n",
      "\n"
     ]
    },
    {
     "name": "stdin",
     "output_type": "stream",
     "text": [
      " 3\n",
      " \n"
     ]
    },
    {
     "ename": "IndexError",
     "evalue": "string index out of range",
     "output_type": "error",
     "traceback": [
      "\u001b[0;31m---------------------------------------------------------------------------\u001b[0m",
      "\u001b[0;31mIndexError\u001b[0m                                Traceback (most recent call last)",
      "Cell \u001b[0;32mIn[26], line 1\u001b[0m\n\u001b[0;32m----> 1\u001b[0m \u001b[43mexec\u001b[49m\u001b[43m(\u001b[49m\u001b[43mq_0_program_0\u001b[49m\u001b[43m)\u001b[49m\n",
      "File \u001b[0;32m<string>:15\u001b[0m\n",
      "\u001b[0;31mIndexError\u001b[0m: string index out of range"
     ]
    }
   ],
   "source": [
    "exec(q_0_program_0)"
   ]
  },
  {
   "cell_type": "code",
   "execution_count": 27,
   "id": "6f411f8d-f239-4306-bad8-4d3c219f8a6e",
   "metadata": {},
   "outputs": [
    {
     "name": "stdin",
     "output_type": "stream",
     "text": [
      " 1\n",
      " 1\n",
      " 1\n"
     ]
    },
    {
     "name": "stdout",
     "output_type": "stream",
     "text": [
      "0\n"
     ]
    }
   ],
   "source": [
    "exec(q_0_program_1)"
   ]
  },
  {
   "cell_type": "code",
   "execution_count": 28,
   "id": "7b2d68d0-428b-4257-85fb-ff5521008cc5",
   "metadata": {},
   "outputs": [
    {
     "name": "stdin",
     "output_type": "stream",
     "text": [
      " 1\n",
      " 1\n",
      " 1\n"
     ]
    },
    {
     "name": "stdout",
     "output_type": "stream",
     "text": [
      "0\n"
     ]
    }
   ],
   "source": [
    "exec(q_0_program_2)"
   ]
  },
  {
   "cell_type": "code",
   "execution_count": 29,
   "id": "d18b5ad0-575b-47d7-b259-61739da195a6",
   "metadata": {},
   "outputs": [],
   "source": [
    "solution_1 = ds_pandas.iloc[1][\"solutions\"]"
   ]
  },
  {
   "cell_type": "code",
   "execution_count": 30,
   "id": "3bd4c97e-a303-40f5-b73d-edfaf4315222",
   "metadata": {},
   "outputs": [],
   "source": [
    "q_1_solutions_list = solution_1.split(\"\\\", \\\"\")"
   ]
  },
  {
   "cell_type": "code",
   "execution_count": 31,
   "id": "704c826a-23d6-446d-a45e-a01c0f5a6775",
   "metadata": {},
   "outputs": [
    {
     "name": "stdout",
     "output_type": "stream",
     "text": [
      "[\"q=int(input())\\n\\nfor e in range(q):\\n    x,y,k=list(map(int,input().split()))\\n    x,y=abs(x),abs(y)\\n    x,y=max(x,y),min(x,y)\\n    \\n    if(x%2!=k%2):\\n        k-=1\\n        y-=1\\n    \\n    \\n    if(x>k):\\n        print(-1)\\n        continue\\n    if((x-y)%2):\\n        k-=1\\n        x-=1\\n    print(k)\\n    \\n    \\n    \\n\n"
     ]
    }
   ],
   "source": [
    "print(q_1_solutions_list[0])"
   ]
  },
  {
   "cell_type": "code",
   "execution_count": 32,
   "id": "5ce4b597-d48d-447b-b15e-8f7828e7cad9",
   "metadata": {},
   "outputs": [
    {
     "name": "stdout",
     "output_type": "stream",
     "text": [
      "#      \\nimport collections, atexit, math, sys, bisect \\n\\nsys.setrecursionlimit(1000000)\\ndef getIntList():\\n    return list(map(int, input().split()))    \\n\\ntry :\\n    #raise ModuleNotFoundError\\n    import numpy\\n    def dprint(*args, **kwargs):\\n        print(*args, **kwargs, file=sys.stderr)\\n    dprint('debug mode')\\nexcept ModuleNotFoundError:\\n    def dprint(*args, **kwargs):\\n        pass\\n\\n\\n\\ninId = 0\\noutId = 0\\nif inId>0:\\n    dprint('use input', inId)\\n    sys.stdin = open('input'+ str(inId) + '.txt', 'r') #\\u6807\\u51c6\\u8f93\\u51fa\\u91cd\\u5b9a\\u5411\\u81f3\\u6587\\u4ef6\\nif outId>0:\\n    dprint('use output', outId)\\n    sys.stdout = open('stdout'+ str(outId) + '.txt', 'w') #\\u6807\\u51c6\\u8f93\\u51fa\\u91cd\\u5b9a\\u5411\\u81f3\\u6587\\u4ef6\\n    atexit.register(lambda :sys.stdout.close())     #idle \\u4e2d\\u4e0d\\u4f1a\\u6267\\u884c atexit\\n    \\nQ, = getIntList()\\nfor _ in range(Q):\\n    N, M, K  = getIntList()\\n    if max(N,M) >K:\\n        print(-1)\\n        continue\\n    r = K\\n    if N%2!= K%2:\\n        r-=1\\n    if M%2!= K%2:\\n        r-=1\\n    print(r)\\n\\n\\n\\n\\n\\n\\n\n"
     ]
    }
   ],
   "source": [
    "print(q_1_solutions_list[1])"
   ]
  },
  {
   "cell_type": "code",
   "execution_count": 33,
   "id": "57d9b8d6-259f-4b71-97d3-3a8d9dee1759",
   "metadata": {},
   "outputs": [
    {
     "name": "stdout",
     "output_type": "stream",
     "text": [
      "q = int(input())\\nfor i in range(q):\\n    x, y, k = list(map(int, input().split()))\\n    if x > y: x, y = y, x\\n    m = y\\n    d = y\\n    if (y - x) % 2 == 1:\\n        d -= 1\\n    if k < m:\\n        print(-1)\\n        continue\\n    r = k - m\\n    if r % 2 != 0:\\n        r -= 1\\n        if d != m:\\n            d += 1\\n        else:\\n            d -= 1\\n    d += r\\n    print(d)\\n\n"
     ]
    }
   ],
   "source": [
    "print(q_1_solutions_list[2])"
   ]
  },
  {
   "cell_type": "code",
   "execution_count": 34,
   "id": "f4438749-43f2-4b52-92af-68c2c8c5d84e",
   "metadata": {},
   "outputs": [],
   "source": [
    "q_1_program_0 = \"q=int(input())\\n\\nfor e in range(q):\\n    x,y,k=list(map(int,input().split()))\\n    x,y=abs(x),abs(y)\\n    x,y=max(x,y),min(x,y)\\n    \\n    if(x%2!=k%2):\\n        k-=1\\n        y-=1\\n    \\n    \\n    if(x>k):\\n        print(-1)\\n        continue\\n    if((x-y)%2):\\n        k-=1\\n        x-=1\\n    print(k)\\n    \\n    \\n    \\n\""
   ]
  },
  {
   "cell_type": "code",
   "execution_count": 35,
   "id": "40af5b76-144a-4ea1-99bb-1eebbf88034a",
   "metadata": {},
   "outputs": [],
   "source": [
    "q_1_program_1 = \"import collections, atexit, math, sys, bisect \\n\\nsys.setrecursionlimit(1000000)\\ndef getIntList():\\n    return list(map(int, input().split()))    \\n\\ntry :\\n    #raise ModuleNotFoundError\\n    import numpy\\n    def dprint(*args, **kwargs):\\n        print(*args, **kwargs, file=sys.stderr)\\n    dprint('debug mode')\\nexcept ModuleNotFoundError:\\n    def dprint(*args, **kwargs):\\n        pass\\n\\n\\n\\ninId = 0\\noutId = 0\\nif inId>0:\\n    dprint('use input', inId)\\n    sys.stdin = open('input'+ str(inId) + '.txt', 'r') #\\u6807\\u51c6\\u8f93\\u51fa\\u91cd\\u5b9a\\u5411\\u81f3\\u6587\\u4ef6\\nif outId>0:\\n    dprint('use output', outId)\\n    sys.stdout = open('stdout'+ str(outId) + '.txt', 'w') #\\u6807\\u51c6\\u8f93\\u51fa\\u91cd\\u5b9a\\u5411\\u81f3\\u6587\\u4ef6\\n    atexit.register(lambda :sys.stdout.close())     #idle \\u4e2d\\u4e0d\\u4f1a\\u6267\\u884c atexit\\n    \\nQ, = getIntList()\\nfor _ in range(Q):\\n    N, M, K  = getIntList()\\n    if max(N,M) >K:\\n        print(-1)\\n        continue\\n    r = K\\n    if N%2!= K%2:\\n        r-=1\\n    if M%2!= K%2:\\n        r-=1\\n    print(r)\\n\\n\\n\\n\\n\\n\\n\""
   ]
  },
  {
   "cell_type": "code",
   "execution_count": 36,
   "id": "1c18189b-6c16-40a0-b7ae-4e593a572bdc",
   "metadata": {},
   "outputs": [],
   "source": [
    "q_1_program_2 = \"q = int(input())\\nfor i in range(q):\\n    x, y, k = list(map(int, input().split()))\\n    if x > y: x, y = y, x\\n    m = y\\n    d = y\\n    if (y - x) % 2 == 1:\\n        d -= 1\\n    if k < m:\\n        print(-1)\\n        continue\\n    r = k - m\\n    if r % 2 != 0:\\n        r -= 1\\n        if d != m:\\n            d += 1\\n        else:\\n            d -= 1\\n    d += r\\n    print(d)\\n\""
   ]
  },
  {
   "cell_type": "code",
   "execution_count": 37,
   "id": "17d54b58-bc41-4c60-bda1-be767b47a644",
   "metadata": {},
   "outputs": [
    {
     "name": "stdin",
     "output_type": "stream",
     "text": [
      " 1\n",
      " 1\n"
     ]
    },
    {
     "ename": "ValueError",
     "evalue": "not enough values to unpack (expected 3, got 1)",
     "output_type": "error",
     "traceback": [
      "\u001b[0;31m---------------------------------------------------------------------------\u001b[0m",
      "\u001b[0;31mValueError\u001b[0m                                Traceback (most recent call last)",
      "Cell \u001b[0;32mIn[37], line 1\u001b[0m\n\u001b[0;32m----> 1\u001b[0m \u001b[43mexec\u001b[49m\u001b[43m(\u001b[49m\u001b[43mq_1_program_0\u001b[49m\u001b[43m)\u001b[49m\n",
      "File \u001b[0;32m<string>:4\u001b[0m\n",
      "\u001b[0;31mValueError\u001b[0m: not enough values to unpack (expected 3, got 1)"
     ]
    }
   ],
   "source": [
    "exec(q_1_program_0)"
   ]
  },
  {
   "cell_type": "code",
   "execution_count": 38,
   "id": "ef168a84-65be-496a-be5a-aeb47c6661cd",
   "metadata": {},
   "outputs": [
    {
     "name": "stderr",
     "output_type": "stream",
     "text": [
      "debug mode\n"
     ]
    },
    {
     "name": "stdin",
     "output_type": "stream",
     "text": [
      " 1\n",
      " 1\n"
     ]
    },
    {
     "ename": "ValueError",
     "evalue": "not enough values to unpack (expected 3, got 1)",
     "output_type": "error",
     "traceback": [
      "\u001b[0;31m---------------------------------------------------------------------------\u001b[0m",
      "\u001b[0;31mValueError\u001b[0m                                Traceback (most recent call last)",
      "Cell \u001b[0;32mIn[38], line 1\u001b[0m\n\u001b[0;32m----> 1\u001b[0m \u001b[43mexec\u001b[49m\u001b[43m(\u001b[49m\u001b[43mq_1_program_1\u001b[49m\u001b[43m)\u001b[49m\n",
      "File \u001b[0;32m<string>:31\u001b[0m\n",
      "\u001b[0;31mValueError\u001b[0m: not enough values to unpack (expected 3, got 1)"
     ]
    }
   ],
   "source": [
    "exec(q_1_program_1)"
   ]
  },
  {
   "cell_type": "code",
   "execution_count": 39,
   "id": "fab4b74b-cd1f-4ccd-8c34-61343203802c",
   "metadata": {},
   "outputs": [
    {
     "name": "stdin",
     "output_type": "stream",
     "text": [
      " 1\n",
      " 1\n"
     ]
    },
    {
     "ename": "ValueError",
     "evalue": "not enough values to unpack (expected 3, got 1)",
     "output_type": "error",
     "traceback": [
      "\u001b[0;31m---------------------------------------------------------------------------\u001b[0m",
      "\u001b[0;31mValueError\u001b[0m                                Traceback (most recent call last)",
      "Cell \u001b[0;32mIn[39], line 1\u001b[0m\n\u001b[0;32m----> 1\u001b[0m \u001b[43mexec\u001b[49m\u001b[43m(\u001b[49m\u001b[43mq_1_program_2\u001b[49m\u001b[43m)\u001b[49m\n",
      "File \u001b[0;32m<string>:3\u001b[0m\n",
      "\u001b[0;31mValueError\u001b[0m: not enough values to unpack (expected 3, got 1)"
     ]
    }
   ],
   "source": [
    "exec(q_1_program_2)"
   ]
  },
  {
   "cell_type": "code",
   "execution_count": 40,
   "id": "1ffb3d05-2ea6-49ae-abb7-5eeabf109a58",
   "metadata": {},
   "outputs": [],
   "source": [
    "solution_2 = ds_pandas.iloc[2][\"solutions\"]"
   ]
  },
  {
   "cell_type": "code",
   "execution_count": null,
   "id": "59d5486e-7022-4c2c-abc0-c7915a10c9de",
   "metadata": {},
   "outputs": [],
   "source": [
    "print(solution_2)"
   ]
  },
  {
   "cell_type": "code",
   "execution_count": 41,
   "id": "790f8e44-df5d-490e-9dd8-2c33efa9d3f1",
   "metadata": {},
   "outputs": [],
   "source": [
    "q_2_solutions_list = solution_2.split(\"\\\", \\\"\")"
   ]
  },
  {
   "cell_type": "code",
   "execution_count": null,
   "id": "1b588f5e-b682-4fc9-8cdc-f69d3f8324b5",
   "metadata": {},
   "outputs": [],
   "source": [
    "print(q_2_solutions_list[0])"
   ]
  },
  {
   "cell_type": "code",
   "execution_count": null,
   "id": "0ca1373d-dec3-4dd5-9494-0fe31483fb64",
   "metadata": {},
   "outputs": [],
   "source": [
    "print(q_2_solutions_list[1])"
   ]
  },
  {
   "cell_type": "code",
   "execution_count": null,
   "id": "450ded9b-ee3a-4b77-8cb0-d28afb7c8ac6",
   "metadata": {},
   "outputs": [],
   "source": [
    "print(q_2_solutions_list[2])"
   ]
  },
  {
   "cell_type": "code",
   "execution_count": 42,
   "id": "fd6a4b18-be47-4c93-a699-ca73e3ff5605",
   "metadata": {},
   "outputs": [],
   "source": [
    "q_2_program_0 = \"import sys\\nimport random\\nfrom fractions import Fraction\\nfrom math import *\\n \\ndef input():\\n    return sys.stdin.readline().strip()\\n \\ndef iinput():\\n    return int(input())\\n\\ndef finput():\\n    return float(input())\\n\\ndef tinput():\\n    return input().split()\\n\\ndef linput():\\n    return list(input())\\n \\ndef rinput():\\n    return list(map(int, tinput()))\\n\\ndef fiinput():\\n    return list(map(float, tinput()))\\n \\ndef rlinput():\\n    return list(map(int, input().split()))\\ndef trinput():\\n    return tuple(rinput())\\n\\ndef srlinput():\\n    return sorted(list(map(int, input().split())))\\n\\ndef NOYES(fl):\\n    if fl:\\n        print(\\\"NO\\\")\\n    else:\\n        print(\\\"YES\\\")\\ndef YESNO(fl):\\n    if fl:\\n        print(\\\"YES\\\")\\n    else:\\n        print(\\\"NO\\\")\\n    \\ndef main():\\n    n = iinput()\\n    #k = iinput() \\n    #m = iinput() \\n    #n = int(sys.stdin.readline().strip()) \\n    #n, k = rinput()\\n    #n, m = rinput()\\n    #m, k = rinput()\\n    #n, k, m = rinput()\\n    #n, m, k = rinput()\\n    #k, n, m = rinput()\\n    #k, m, n = rinput() \\n    #m, k, n = rinput()\\n    #m, n, k = rinput()\\n    q = [rlinput(), rlinput(), rlinput()]\\n    #q = linput()\\n    ans = q[0].copy()\\n    for i in range(1, n):\\n        if ans[i] == ans[i - 1]:\\n            ans[i] = q[1][i]\\n        if i == n - 1:\\n            o = 0\\n            while q[o][i] == ans[n - 2] or q[o][i] == ans[0]:\\n                o += 1\\n            ans[i] = q[o][i]\\n    print(*ans)\\n\\n        \\n\\n            \\n        \\n    \\n                \\n    \\n    \\n    \\n            \\n    \\n        \\n    \\n\\nfor i in range(iinput()):\\n    main()\\n\""
   ]
  },
  {
   "cell_type": "code",
   "execution_count": 43,
   "id": "8d6f09d4-87d9-4802-b0ee-37fe05a547fe",
   "metadata": {},
   "outputs": [],
   "source": [
    "q_2_program_1 = \"for _ in range(int(input())):\\n  n=int(input())\\n  a=list(map(int,input().split()))\\n  b=list(map(int,input().split()))\\n  c=list(map(int,input().split()))\\n  p=a\\n  for i in range(n):\\n    if p[i]==p[(i+1)%n]:\\n      if p[i]!=b[i] and p[(i-1)%n]!=b[i]:p[i]=b[i]\\n      else:p[i]=c[i]\\n  print(*p)\""
   ]
  },
  {
   "cell_type": "code",
   "execution_count": 44,
   "id": "3fa6b2c4-a301-45f0-9bac-57f9eb1716ba",
   "metadata": {},
   "outputs": [],
   "source": [
    "q_2_program_2 = \"for __ in range(int(input())):\\n    n = int(input())\\n    ar1 = list(map(int, input().split()))\\n    ar2 = list(map(int, input().split()))\\n    ar3 = list(map(int, input().split()))\\n    ans = [ar1[0]]\\n    for i in range(1, n - 1):\\n        if ar1[i] != ans[-1]:\\n            ans.append(ar1[i])\\n        elif ar2[i] != ans[-1]:\\n            ans.append(ar2[i])\\n        elif ar3[i] != ans[-1]:\\n            ans.append(ar3[i])\\n    if ar1[-1] != ans[-1] and ar1[-1] != ans[0]:\\n        ans.append(ar1[-1])\\n    elif ar2[-1] != ans[-1] and ar2[-1] != ans[0]:\\n        ans.append(ar2[-1])\\n    elif ar3[-1] != ans[-1] and ar3[-1] != ans[0]:\\n        ans.append(ar3[-1])\\n    print(*ans)\""
   ]
  },
  {
   "cell_type": "code",
   "execution_count": 45,
   "id": "1f8baee1-aa57-4b69-9faa-12b1aeabd0cc",
   "metadata": {},
   "outputs": [
    {
     "name": "stdin",
     "output_type": "stream",
     "text": [
      " 1\n",
      " 1\n",
      " 1\n",
      " 1\n",
      " 1\n"
     ]
    },
    {
     "name": "stdout",
     "output_type": "stream",
     "text": [
      "1\n"
     ]
    }
   ],
   "source": [
    "exec(q_2_program_0)"
   ]
  },
  {
   "cell_type": "code",
   "execution_count": 46,
   "id": "14edd2cc-688c-457b-96c3-9a73ab261807",
   "metadata": {},
   "outputs": [
    {
     "name": "stdin",
     "output_type": "stream",
     "text": [
      " 1\n",
      " 1\n",
      " 1\n",
      " 1\n",
      " 1\n"
     ]
    },
    {
     "name": "stdout",
     "output_type": "stream",
     "text": [
      "1\n"
     ]
    }
   ],
   "source": [
    "exec(q_2_program_1)"
   ]
  },
  {
   "cell_type": "code",
   "execution_count": 47,
   "id": "3a1aa172-3f34-4661-8ba2-c999b44ea1ca",
   "metadata": {},
   "outputs": [
    {
     "name": "stdin",
     "output_type": "stream",
     "text": [
      " 1\n",
      " 1\n",
      " 1\n",
      " 1\n",
      " 1\n"
     ]
    },
    {
     "name": "stdout",
     "output_type": "stream",
     "text": [
      "1\n"
     ]
    }
   ],
   "source": [
    "exec(q_2_program_2)"
   ]
  },
  {
   "cell_type": "code",
   "execution_count": 48,
   "id": "22e0c19d-b810-4900-96b0-2f008f920c0a",
   "metadata": {},
   "outputs": [],
   "source": [
    "solution_3 = ds_pandas.iloc[3][\"solutions\"]"
   ]
  },
  {
   "cell_type": "code",
   "execution_count": 49,
   "id": "151020fe-3374-4048-8eb6-5f19475e8310",
   "metadata": {},
   "outputs": [],
   "source": [
    "q_3_solutions_list = solution_3.split(\"\\\", \\\"\")"
   ]
  },
  {
   "cell_type": "code",
   "execution_count": 50,
   "id": "baee1d6e-8c51-464b-8e42-b0b27c192962",
   "metadata": {},
   "outputs": [
    {
     "name": "stdout",
     "output_type": "stream",
     "text": [
      "[\"def solve():\\n    n, k = map(int,input().split())\\n    lst = list(map(int,input().split()))\\n    lst.sort()\\n    ans = 0\\n    for i in range(n - k - 1, n):\\n        ans += lst[i]\\n    print(ans)\\nfor i in range(int(input())):\\n    solve()\n"
     ]
    }
   ],
   "source": [
    "print(q_3_solutions_list[0])"
   ]
  },
  {
   "cell_type": "code",
   "execution_count": 51,
   "id": "7643240c-f580-4c90-aeb8-1a0b29e254fd",
   "metadata": {},
   "outputs": [
    {
     "name": "stdout",
     "output_type": "stream",
     "text": [
      "t=int(input())\\nfor i in range(t):\\n    n,k=[int(i) for i in input().split()]\\n    a=[int(i) for i in input().split()]\\n    a.sort(reverse=True)\\n    print(sum(a[:k+1]))\n"
     ]
    }
   ],
   "source": [
    "print(q_3_solutions_list[1])"
   ]
  },
  {
   "cell_type": "code",
   "execution_count": 52,
   "id": "180f9f85-d767-4ee1-91db-7d856bc303a8",
   "metadata": {},
   "outputs": [
    {
     "name": "stdout",
     "output_type": "stream",
     "text": [
      "# map(int, input().split())\\nrw = int(input())\\nfor wewq in range(rw):\\n    n, k = list(map(int, input().split()))\\n    a = list(map(int, input().split()))\\n    a.sort()\\n    a.reverse()\\n    f = 0\\n    for i in range(k + 1):\\n        f += a[i]\\n    print(f)\\n\n"
     ]
    }
   ],
   "source": [
    "print(q_3_solutions_list[2])"
   ]
  },
  {
   "cell_type": "code",
   "execution_count": 53,
   "id": "74dd8ff0-9b4b-474f-8bfc-8dfb41f3b86e",
   "metadata": {},
   "outputs": [],
   "source": [
    "q_3_program_0 = \"def solve():\\n    n, k = map(int,input().split())\\n    lst = list(map(int,input().split()))\\n    lst.sort()\\n    ans = 0\\n    for i in range(n - k - 1, n):\\n        ans += lst[i]\\n    print(ans)\\nfor i in range(int(input())):\\n    solve()\""
   ]
  },
  {
   "cell_type": "code",
   "execution_count": 54,
   "id": "12aeb29e-9ca4-40c0-ad14-2ae2a5390ad8",
   "metadata": {},
   "outputs": [],
   "source": [
    "q_3_program_1 = \"t=int(input())\\nfor i in range(t):\\n    n,k=[int(i) for i in input().split()]\\n    a=[int(i) for i in input().split()]\\n    a.sort(reverse=True)\\n    print(sum(a[:k+1]))\""
   ]
  },
  {
   "cell_type": "code",
   "execution_count": 55,
   "id": "0e85d4a9-7d6e-46e4-96e0-649f80c8bc91",
   "metadata": {},
   "outputs": [],
   "source": [
    "q_3_program_2 = \"map(int, input().split())\\nrw = int(input())\\nfor wewq in range(rw):\\n    n, k = list(map(int, input().split()))\\n    a = list(map(int, input().split()))\\n    a.sort()\\n    a.reverse()\\n    f = 0\\n    for i in range(k + 1):\\n        f += a[i]\\n    print(f)\\n\""
   ]
  },
  {
   "cell_type": "code",
   "execution_count": 56,
   "id": "481119ae-5276-478e-89e1-24c1395f614a",
   "metadata": {},
   "outputs": [
    {
     "name": "stdin",
     "output_type": "stream",
     "text": [
      " 1\n",
      " 1\n"
     ]
    },
    {
     "ename": "ValueError",
     "evalue": "not enough values to unpack (expected 2, got 1)",
     "output_type": "error",
     "traceback": [
      "\u001b[0;31m---------------------------------------------------------------------------\u001b[0m",
      "\u001b[0;31mValueError\u001b[0m                                Traceback (most recent call last)",
      "Cell \u001b[0;32mIn[56], line 1\u001b[0m\n\u001b[0;32m----> 1\u001b[0m \u001b[43mexec\u001b[49m\u001b[43m(\u001b[49m\u001b[43mq_3_program_0\u001b[49m\u001b[43m)\u001b[49m\n",
      "File \u001b[0;32m<string>:10\u001b[0m\n",
      "File \u001b[0;32m<string>:2\u001b[0m, in \u001b[0;36msolve\u001b[0;34m()\u001b[0m\n",
      "\u001b[0;31mValueError\u001b[0m: not enough values to unpack (expected 2, got 1)"
     ]
    }
   ],
   "source": [
    "exec(q_3_program_0)"
   ]
  },
  {
   "cell_type": "code",
   "execution_count": 57,
   "id": "88ba18f5-74a5-44a9-af19-96bc6ed93c88",
   "metadata": {},
   "outputs": [
    {
     "name": "stdin",
     "output_type": "stream",
     "text": [
      " 1\n",
      " 1\n"
     ]
    },
    {
     "ename": "ValueError",
     "evalue": "not enough values to unpack (expected 2, got 1)",
     "output_type": "error",
     "traceback": [
      "\u001b[0;31m---------------------------------------------------------------------------\u001b[0m",
      "\u001b[0;31mValueError\u001b[0m                                Traceback (most recent call last)",
      "Cell \u001b[0;32mIn[57], line 1\u001b[0m\n\u001b[0;32m----> 1\u001b[0m \u001b[43mexec\u001b[49m\u001b[43m(\u001b[49m\u001b[43mq_3_program_1\u001b[49m\u001b[43m)\u001b[49m\n",
      "File \u001b[0;32m<string>:3\u001b[0m\n",
      "\u001b[0;31mValueError\u001b[0m: not enough values to unpack (expected 2, got 1)"
     ]
    }
   ],
   "source": [
    "exec(q_3_program_1)"
   ]
  },
  {
   "cell_type": "code",
   "execution_count": 128,
   "id": "46ebfcf0-6e76-4302-ab00-c0e8143b7716",
   "metadata": {},
   "outputs": [
    {
     "ename": "ValueError",
     "evalue": "invalid literal for int() with base 10: ''",
     "output_type": "error",
     "traceback": [
      "\u001b[0;31m---------------------------------------------------------------------------\u001b[0m",
      "\u001b[0;31mValueError\u001b[0m                                Traceback (most recent call last)",
      "Cell \u001b[0;32mIn[128], line 1\u001b[0m\n\u001b[0;32m----> 1\u001b[0m \u001b[43mexec\u001b[49m\u001b[43m(\u001b[49m\u001b[43mq_3_program_2\u001b[49m\u001b[43m)\u001b[49m\n",
      "File \u001b[0;32m<string>:2\u001b[0m\n",
      "\u001b[0;31mValueError\u001b[0m: invalid literal for int() with base 10: ''"
     ]
    }
   ],
   "source": [
    "exec(q_3_program_2)"
   ]
  },
  {
   "cell_type": "code",
   "execution_count": 58,
   "id": "07d1c96d-8ef7-4f13-b311-991b7ebce66d",
   "metadata": {},
   "outputs": [],
   "source": [
    "solution_4 = ds_pandas.iloc[4][\"solutions\"]"
   ]
  },
  {
   "cell_type": "code",
   "execution_count": 59,
   "id": "8fd02caf-49dd-4d56-b940-a6eb51444e6c",
   "metadata": {},
   "outputs": [],
   "source": [
    "q_4_solutions_list = solution_4.split(\"\\\", \\\"\")"
   ]
  },
  {
   "cell_type": "code",
   "execution_count": 60,
   "id": "e9b0b4fa-c73f-4bca-b5bc-ddbed5065fcf",
   "metadata": {},
   "outputs": [
    {
     "name": "stdout",
     "output_type": "stream",
     "text": [
      "[\"for _ in range(int(input())):\\n    input()\\n    nums = [int(x) for x in input().split()]\\n    new_ar = list(zip(nums,[i for i in range(len(nums))]))\\n    new_ar.sort()\\n    \\n    maxx = new_ar[0][1]\\n    minn = new_ar[0][1]\\n    s=\\\"1\\\"\\n    for j in range(1,len(new_ar)):\\n        if(new_ar[j][1]>maxx):\\n            maxx = new_ar[j][1]\\n        if(new_ar[j][1]<minn):\\n            minn = new_ar[j][1]\\n        if(maxx-minn<j+1):\\n            s+=\\\"1\\\"\\n        else:\\n            s+=\\\"0\\\"\\n        \\n    print(s)\n"
     ]
    }
   ],
   "source": [
    "print(q_4_solutions_list[0])"
   ]
  },
  {
   "cell_type": "code",
   "execution_count": 61,
   "id": "2e88e727-2fe8-4a13-8b63-083b4590a45a",
   "metadata": {},
   "outputs": [
    {
     "name": "stdout",
     "output_type": "stream",
     "text": [
      "import sys\\ndef I():\\n        return sys.stdin.readline().rstrip()\\n\\nfor _ in range(int(I())):\\n    n = int(I())\\n    l = list(map(int,I().split()))\\n    r = list(range(n))\\n    r.sort(key=lambda x: l[x])\\n    mn, mx = None, None\\n    for i in range(n):\\n        if mn is None:\\n            mn = mx = r[ i ]\\n        else:\\n            mn = min( mn, r[ i ] )\\n            mx = max( mx, r[ i ] )\\n        l[ i ] = '1' if mx - mn == i else '0'\\n    print(\\\"\\\".join(l))\\n\n"
     ]
    }
   ],
   "source": [
    "print(q_4_solutions_list[1])"
   ]
  },
  {
   "cell_type": "code",
   "execution_count": 62,
   "id": "59bfa8ba-d8b6-4aad-b71d-ee86e70401ab",
   "metadata": {},
   "outputs": [
    {
     "name": "stdout",
     "output_type": "stream",
     "text": [
      "from sys import stdin\\ndef rl():\\n    return [int(w) for w in stdin.readline().split()]\\n\\nk, = rl()\\nfor _ in range(k):\\n    n, = rl()\\n    p = rl()\\n\\n    q = [0] * n\\n    for i, x in enumerate(p):\\n        q[x-1] = i\\n\\n    l = r = q[0]\\n    m = []\\n    for k, i in enumerate(q):\\n        if i < l:\\n            l = i\\n        elif i > r:\\n            r = i\\n        m.append('1' if r - l == k else '0')\\n    print(''.join(m))\\n\n"
     ]
    }
   ],
   "source": [
    "print(q_4_solutions_list[2])"
   ]
  },
  {
   "cell_type": "code",
   "execution_count": 63,
   "id": "640a2e54-1a59-4069-b2d9-39f4cff73881",
   "metadata": {},
   "outputs": [],
   "source": [
    "q_4_program_0 = \"for _ in range(int(input())):\\n    input()\\n    nums = [int(x) for x in input().split()]\\n    new_ar = list(zip(nums,[i for i in range(len(nums))]))\\n    new_ar.sort()\\n    \\n    maxx = new_ar[0][1]\\n    minn = new_ar[0][1]\\n    s=\\\"1\\\"\\n    for j in range(1,len(new_ar)):\\n        if(new_ar[j][1]>maxx):\\n            maxx = new_ar[j][1]\\n        if(new_ar[j][1]<minn):\\n            minn = new_ar[j][1]\\n        if(maxx-minn<j+1):\\n            s+=\\\"1\\\"\\n        else:\\n            s+=\\\"0\\\"\\n        \\n    print(s)\""
   ]
  },
  {
   "cell_type": "code",
   "execution_count": 64,
   "id": "0c0fcf9e-957b-44f9-99a8-8268d6c44048",
   "metadata": {},
   "outputs": [],
   "source": [
    "q_4_program_1 = \"import sys\\ndef I():\\n        return sys.stdin.readline().rstrip()\\n\\nfor _ in range(int(I())):\\n    n = int(I())\\n    l = list(map(int,I().split()))\\n    r = list(range(n))\\n    r.sort(key=lambda x: l[x])\\n    mn, mx = None, None\\n    for i in range(n):\\n        if mn is None:\\n            mn = mx = r[ i ]\\n        else:\\n            mn = min( mn, r[ i ] )\\n            mx = max( mx, r[ i ] )\\n        l[ i ] = '1' if mx - mn == i else '0'\\n    print(\\\"\\\".join(l))\\n\""
   ]
  },
  {
   "cell_type": "code",
   "execution_count": 65,
   "id": "0e19aa3a-82de-4949-9005-37c94ba10528",
   "metadata": {},
   "outputs": [],
   "source": [
    "q_4_program_2 = \"from sys import stdin\\ndef rl():\\n    return [int(w) for w in stdin.readline().split()]\\n\\nk, = rl()\\nfor _ in range(k):\\n    n, = rl()\\n    p = rl()\\n\\n    q = [0] * n\\n    for i, x in enumerate(p):\\n        q[x-1] = i\\n\\n    l = r = q[0]\\n    m = []\\n    for k, i in enumerate(q):\\n        if i < l:\\n            l = i\\n        elif i > r:\\n            r = i\\n        m.append('1' if r - l == k else '0')\\n    print(''.join(m))\\n\""
   ]
  },
  {
   "cell_type": "code",
   "execution_count": 66,
   "id": "a0f4c7c6-8919-4ad4-96a3-466efc6cf85f",
   "metadata": {},
   "outputs": [
    {
     "name": "stdin",
     "output_type": "stream",
     "text": [
      " 1\n",
      " 1\n",
      " 1\n"
     ]
    },
    {
     "name": "stdout",
     "output_type": "stream",
     "text": [
      "1\n"
     ]
    }
   ],
   "source": [
    "exec(q_4_program_0)"
   ]
  },
  {
   "cell_type": "code",
   "execution_count": 67,
   "id": "b46d08e8-066d-46be-b17c-b76ac95b4f7e",
   "metadata": {},
   "outputs": [
    {
     "ename": "ValueError",
     "evalue": "invalid literal for int() with base 10: ''",
     "output_type": "error",
     "traceback": [
      "\u001b[0;31m---------------------------------------------------------------------------\u001b[0m",
      "\u001b[0;31mValueError\u001b[0m                                Traceback (most recent call last)",
      "Cell \u001b[0;32mIn[67], line 1\u001b[0m\n\u001b[0;32m----> 1\u001b[0m \u001b[43mexec\u001b[49m\u001b[43m(\u001b[49m\u001b[43mq_4_program_1\u001b[49m\u001b[43m)\u001b[49m\n",
      "File \u001b[0;32m<string>:5\u001b[0m\n",
      "\u001b[0;31mValueError\u001b[0m: invalid literal for int() with base 10: ''"
     ]
    }
   ],
   "source": [
    "exec(q_4_program_1)"
   ]
  },
  {
   "cell_type": "code",
   "execution_count": 68,
   "id": "4dff5aac-380c-49fa-a025-95cdc624c190",
   "metadata": {},
   "outputs": [
    {
     "ename": "ValueError",
     "evalue": "not enough values to unpack (expected 1, got 0)",
     "output_type": "error",
     "traceback": [
      "\u001b[0;31m---------------------------------------------------------------------------\u001b[0m",
      "\u001b[0;31mValueError\u001b[0m                                Traceback (most recent call last)",
      "Cell \u001b[0;32mIn[68], line 1\u001b[0m\n\u001b[0;32m----> 1\u001b[0m \u001b[43mexec\u001b[49m\u001b[43m(\u001b[49m\u001b[43mq_4_program_2\u001b[49m\u001b[43m)\u001b[49m\n",
      "File \u001b[0;32m<string>:5\u001b[0m\n",
      "\u001b[0;31mValueError\u001b[0m: not enough values to unpack (expected 1, got 0)"
     ]
    }
   ],
   "source": [
    "exec(q_4_program_2)"
   ]
  },
  {
   "cell_type": "code",
   "execution_count": 69,
   "id": "286bb330-c4ba-4ec1-8392-3796dff7ac34",
   "metadata": {},
   "outputs": [],
   "source": [
    "solution_5 = ds_pandas.iloc[5][\"solutions\"]"
   ]
  },
  {
   "cell_type": "code",
   "execution_count": 70,
   "id": "ee002f61-763d-4a8d-892e-e5022b284974",
   "metadata": {},
   "outputs": [],
   "source": [
    "q_5_solutions_list = solution_5.split(\"\\\", \\\"\")"
   ]
  },
  {
   "cell_type": "code",
   "execution_count": 71,
   "id": "e976f780-1088-4d89-a21f-de573f8f8ce0",
   "metadata": {},
   "outputs": [
    {
     "name": "stdout",
     "output_type": "stream",
     "text": [
      "[\"def possible(a):\\n    ans = set()\\n    s = set()\\n    lmax = 0\\n    for i in range(len(a)):\\n        lmax = max(lmax, a[i])\\n        s.add(a[i])\\n        if lmax == i + 1 and len(s) == i + 1:\\n            ans.add(i + 1)\\n    return ans\\n\\n\\nt = int(input())\\nfor case_num in range(t):\\n    n = int(input())\\n    a = list(map(int, input().split(' ')))\\n    left = possible(a)\\n    a.reverse()\\n    right = possible(a)\\n    ans = []\\n    for l in left:\\n        if n - l in right:\\n            ans.append(l)\\n    print(len(ans))\\n    for l in ans:\\n        print(l, n - l)\\n\n"
     ]
    }
   ],
   "source": [
    "print(q_5_solutions_list[0])"
   ]
  },
  {
   "cell_type": "code",
   "execution_count": 74,
   "id": "891b62a9-1bb5-4c69-b779-91e2be938b2f",
   "metadata": {},
   "outputs": [
    {
     "name": "stdout",
     "output_type": "stream",
     "text": [
      "import sys\\ninput=sys.stdin.readline\\nt=int(input())\\nfor _ in range(t):\\n    n=int(input())\\n    aa=list(map(int,input().split()))\\n    ss=set()\\n    \\n    st=0\\n    ind=1\\n    pre=[0 for i in range(n)]\\n    for i in range(n):\\n        if aa[i] in ss:\\n            break\\n        ss.add(aa[i])\\n        while ind<=len(ss):\\n            if ind in ss:\\n                ind+=1\\n            else:\\n                break\\n        if len(ss)!=ind-1:\\n            pre[i]=0\\n        else:\\n            pre[i]=ind\\n    ind=1\\n   # print(pre)\\n    ss=set()\\n    suff=[0 for i in range(n)]\\n    for i in range(n-1,-1,-1):\\n        if aa[i] in ss:\\n            break\\n        ss.add(aa[i])\\n        while ind<=len(ss):\\n            if ind in ss:\\n                ind+=1\\n            else:\\n                break\\n        if len(ss)!=ind-1:\\n            suff[i]=0\\n        else:\\n            suff[i]=ind\\n    tot=0\\n    ans=[]\\n    for i in range(n-1):\\n        if pre[i]>0 and suff[i+1]>0:\\n            tot+=1\\n            ans.append([i+1,n-i-1])\\n    print(tot)\\n    for i in ans:\\n        print(i[0],i[1])\\n        \\n\\n\n"
     ]
    }
   ],
   "source": [
    "print(q_5_solutions_list[1])"
   ]
  },
  {
   "cell_type": "code",
   "execution_count": 76,
   "id": "e451854b-6d7d-4d8e-b3bf-104697762b66",
   "metadata": {},
   "outputs": [
    {
     "name": "stdout",
     "output_type": "stream",
     "text": [
      "# @author \\n\\nimport sys\\n\\nclass BDreamoonLikesPermutations:\\n    def solve(self):\\n        for _ in range(int(input())):\\n            \\n            def is_perm(a):\\n                return len(set(a)) == len(a) and min(a) == 1 and max(a) == len(a)\\n            \\n            n = int(input())\\n            a = [int(_) for _ in input().split()]\\n            done = set()\\n            ans = set()\\n            i = 0\\n            for i in range(n):\\n                if a[i] in done:\\n                    break\\n                done.add(a[i])\\n            \\n            if is_perm(a[:i]) and is_perm(a[i:]):\\n                ans.add((i, n - i))\\n\\n            done = set()\\n            for i in range(n - 1, -1, -1):\\n                if a[i] in done:\\n                    break\\n                done.add(a[i])\\n\\n            if is_perm(a[:i + 1]) and is_perm(a[i + 1:]):\\n                ans.add((i + 1, n - i - 1))\\n\\n            print(len(ans))\\n            for sol in ans:\\n                print(*sol)\\n\\nsolver = BDreamoonLikesPermutations()\\ninput = sys.stdin.readline\\n\\nsolver.solve()\\n\n"
     ]
    }
   ],
   "source": [
    "print(q_5_solutions_list[2])"
   ]
  },
  {
   "cell_type": "code",
   "execution_count": 72,
   "id": "964a2ea4-63e1-43bc-bc71-ebf48cf8de88",
   "metadata": {},
   "outputs": [],
   "source": [
    "q_5_program_0 = \"def possible(a):\\n    ans = set()\\n    s = set()\\n    lmax = 0\\n    for i in range(len(a)):\\n        lmax = max(lmax, a[i])\\n        s.add(a[i])\\n        if lmax == i + 1 and len(s) == i + 1:\\n            ans.add(i + 1)\\n    return ans\\n\\n\\nt = int(input())\\nfor case_num in range(t):\\n    n = int(input())\\n    a = list(map(int, input().split(' ')))\\n    left = possible(a)\\n    a.reverse()\\n    right = possible(a)\\n    ans = []\\n    for l in left:\\n        if n - l in right:\\n            ans.append(l)\\n    print(len(ans))\\n    for l in ans:\\n        print(l, n - l)\\n\""
   ]
  },
  {
   "cell_type": "code",
   "execution_count": 75,
   "id": "a28f6ea5-41e0-467c-acf4-9bd587335426",
   "metadata": {},
   "outputs": [],
   "source": [
    "q_5_program_1 = \"import sys\\ninput=sys.stdin.readline\\nt=int(input())\\nfor _ in range(t):\\n    n=int(input())\\n    aa=list(map(int,input().split()))\\n    ss=set()\\n    \\n    st=0\\n    ind=1\\n    pre=[0 for i in range(n)]\\n    for i in range(n):\\n        if aa[i] in ss:\\n            break\\n        ss.add(aa[i])\\n        while ind<=len(ss):\\n            if ind in ss:\\n                ind+=1\\n            else:\\n                break\\n        if len(ss)!=ind-1:\\n            pre[i]=0\\n        else:\\n            pre[i]=ind\\n    ind=1\\n   # print(pre)\\n    ss=set()\\n    suff=[0 for i in range(n)]\\n    for i in range(n-1,-1,-1):\\n        if aa[i] in ss:\\n            break\\n        ss.add(aa[i])\\n        while ind<=len(ss):\\n            if ind in ss:\\n                ind+=1\\n            else:\\n                break\\n        if len(ss)!=ind-1:\\n            suff[i]=0\\n        else:\\n            suff[i]=ind\\n    tot=0\\n    ans=[]\\n    for i in range(n-1):\\n        if pre[i]>0 and suff[i+1]>0:\\n            tot+=1\\n            ans.append([i+1,n-i-1])\\n    print(tot)\\n    for i in ans:\\n        print(i[0],i[1])\\n        \\n\\n\""
   ]
  },
  {
   "cell_type": "code",
   "execution_count": 77,
   "id": "4eef6049-3245-4575-8088-8d17f237a1b0",
   "metadata": {},
   "outputs": [],
   "source": [
    "q_5_program_2 = \"import sys\\n\\nclass BDreamoonLikesPermutations:\\n    def solve(self):\\n        for _ in range(int(input())):\\n            \\n            def is_perm(a):\\n                return len(set(a)) == len(a) and min(a) == 1 and max(a) == len(a)\\n            \\n            n = int(input())\\n            a = [int(_) for _ in input().split()]\\n            done = set()\\n            ans = set()\\n            i = 0\\n            for i in range(n):\\n                if a[i] in done:\\n                    break\\n                done.add(a[i])\\n            \\n            if is_perm(a[:i]) and is_perm(a[i:]):\\n                ans.add((i, n - i))\\n\\n            done = set()\\n            for i in range(n - 1, -1, -1):\\n                if a[i] in done:\\n                    break\\n                done.add(a[i])\\n\\n            if is_perm(a[:i + 1]) and is_perm(a[i + 1:]):\\n                ans.add((i + 1, n - i - 1))\\n\\n            print(len(ans))\\n            for sol in ans:\\n                print(*sol)\\n\\nsolver = BDreamoonLikesPermutations()\\ninput = sys.stdin.readline\\n\\nsolver.solve()\\n\""
   ]
  },
  {
   "cell_type": "code",
   "execution_count": 78,
   "id": "e7930d7e-9e1c-435f-bba1-f632f8cb1e3e",
   "metadata": {},
   "outputs": [
    {
     "name": "stdin",
     "output_type": "stream",
     "text": [
      " 1\n",
      " 1\n",
      " 1\n"
     ]
    },
    {
     "name": "stdout",
     "output_type": "stream",
     "text": [
      "0\n"
     ]
    }
   ],
   "source": [
    "exec(q_5_program_0)"
   ]
  },
  {
   "cell_type": "code",
   "execution_count": 81,
   "id": "01b27de1-4d93-41bf-8cd9-f2c517a02647",
   "metadata": {},
   "outputs": [],
   "source": [
    "solution_6 = ds_pandas.iloc[6][\"solutions\"]"
   ]
  },
  {
   "cell_type": "code",
   "execution_count": 82,
   "id": "2cd88644-c397-474c-b892-19ccdf66463e",
   "metadata": {},
   "outputs": [],
   "source": [
    "q_6_solutions_list = solution_6.split(\"\\\", \\\"\")"
   ]
  },
  {
   "cell_type": "code",
   "execution_count": 83,
   "id": "0260b4e4-8021-4761-a063-7c66261e12cd",
   "metadata": {},
   "outputs": [
    {
     "name": "stdout",
     "output_type": "stream",
     "text": [
      "[\"import sys\\ninput = sys.stdin.readline\\nfor f in range(int(input())):\\n    n,m=list(map(int,input().split()))\\n    neig=[0]*n\\n    for i in range(n):\\n        neig[i]=[0]\\n    \\n    for i in range(m):\\n        a,b=list(map(int,input().split()))\\n        a-=1\\n        b-=1\\n        neig[a][0]+=1\\n        neig[a].append(b)\\n    lev=[1]*n\\n    for i in range(n):\\n        for j in range(1,neig[i][0]+1):\\n            x=lev[i]+1\\n            if x==4:\\n                x=1\\n            lev[neig[i][j]]=max(lev[neig[i][j]],x)\\n    sol=0\\n    s=[]\\n    for i in range(n):\\n        if lev[i]==3:\\n            sol+=1\\n            s.append(i+1)\\n    print(sol)\\n    print(*s)\\n    \\n\n"
     ]
    }
   ],
   "source": [
    "print(q_6_solutions_list[0])"
   ]
  },
  {
   "cell_type": "code",
   "execution_count": 84,
   "id": "239c504e-80d6-4cf5-8071-9100ef36a8ca",
   "metadata": {},
   "outputs": [
    {
     "name": "stdout",
     "output_type": "stream",
     "text": [
      "import sys\\ninput = sys.stdin.readline\\nfrom heapq import heapify,heappush,heappop\\nt = int(input())\\nfor _ in range(t):\\n  n,m = map(int,input().split())\\n  ab = [list(map(int,input().split())) for i in range(m)]\\n  go = [[] for i in range(n+1)]\\n  come = [[] for i in range(n+1)]\\n  for a,b in ab:\\n    go[a].append(b)\\n    come[b].append(a)\\n  exist = [1]*(n+1)\\n  flg = [10]*(n+1)\\n  for i in range(1,n+1):\\n    if flg[i] == 10:\\n      flg[i] = 2\\n    if flg[i] == 0:\\n      exist[i] = 0\\n    if go[i]:\\n      if flg[i] == 0:\\n        for j in go[i]:\\n          flg[j] = min(flg[j],2)\\n      else:\\n        for j in go[i]:\\n          flg[j] = min(flg[j],flg[i]-1)\\n  print(exist.count(0))\\n  ansls = []\\n  for i in range(1,n+1):\\n    if exist[i] == 0:\\n      ansls.append(i)\\n  print(*ansls)\n"
     ]
    }
   ],
   "source": [
    "print(q_6_solutions_list[1])"
   ]
  },
  {
   "cell_type": "code",
   "execution_count": 85,
   "id": "ac9bdcea-7da5-4377-92b2-1a1d388cd568",
   "metadata": {},
   "outputs": [
    {
     "name": "stdout",
     "output_type": "stream",
     "text": [
      "import sys\\n\\nT = int(sys.stdin.readline().strip())\\nfor t in range (0, T):\\n    n, m = list(map(int, sys.stdin.readline().strip().split()))\\n    P = [[] for i in range (0, n)]\\n    G = [0] * n\\n    for i in range (0, m):\\n        x, y = list(map(int, sys.stdin.readline().strip().split()))\\n        x, y = x-1, y-1\\n        P[y].append(x)\\n    ans = []\\n    for i in range (0, n):\\n        for j in P[i]:\\n            for k in P[j]:\\n                if G[j] == 0 and G[k] == 0:\\n                    if G[i] == 0:\\n                        ans.append(str(i+1))\\n                        G[i] = 1\\n                    \\n    print(len(ans))\\n    print(\\\" \\\".join(ans))\\n\n"
     ]
    }
   ],
   "source": [
    "print(q_6_solutions_list[2])"
   ]
  },
  {
   "cell_type": "code",
   "execution_count": 86,
   "id": "c7c2b2c0-c856-4c95-a70b-8ab68178ef19",
   "metadata": {},
   "outputs": [],
   "source": [
    "q_6_program_0 = \"import sys\\ninput = sys.stdin.readline\\nfor f in range(int(input())):\\n    n,m=list(map(int,input().split()))\\n    neig=[0]*n\\n    for i in range(n):\\n        neig[i]=[0]\\n    \\n    for i in range(m):\\n        a,b=list(map(int,input().split()))\\n        a-=1\\n        b-=1\\n        neig[a][0]+=1\\n        neig[a].append(b)\\n    lev=[1]*n\\n    for i in range(n):\\n        for j in range(1,neig[i][0]+1):\\n            x=lev[i]+1\\n            if x==4:\\n                x=1\\n            lev[neig[i][j]]=max(lev[neig[i][j]],x)\\n    sol=0\\n    s=[]\\n    for i in range(n):\\n        if lev[i]==3:\\n            sol+=1\\n            s.append(i+1)\\n    print(sol)\\n    print(*s)\\n    \\n\""
   ]
  },
  {
   "cell_type": "code",
   "execution_count": 88,
   "id": "89643abc-a1dc-4e4f-97a3-bc0c04de9dcd",
   "metadata": {},
   "outputs": [],
   "source": [
    "q_6_program_1 = \"import sys\\ninput = sys.stdin.readline\\nfrom heapq import heapify,heappush,heappop\\nt = int(input())\\nfor _ in range(t):\\n  n,m = map(int,input().split())\\n  ab = [list(map(int,input().split())) for i in range(m)]\\n  go = [[] for i in range(n+1)]\\n  come = [[] for i in range(n+1)]\\n  for a,b in ab:\\n    go[a].append(b)\\n    come[b].append(a)\\n  exist = [1]*(n+1)\\n  flg = [10]*(n+1)\\n  for i in range(1,n+1):\\n    if flg[i] == 10:\\n      flg[i] = 2\\n    if flg[i] == 0:\\n      exist[i] = 0\\n    if go[i]:\\n      if flg[i] == 0:\\n        for j in go[i]:\\n          flg[j] = min(flg[j],2)\\n      else:\\n        for j in go[i]:\\n          flg[j] = min(flg[j],flg[i]-1)\\n  print(exist.count(0))\\n  ansls = []\\n  for i in range(1,n+1):\\n    if exist[i] == 0:\\n      ansls.append(i)\\n  print(*ansls)\""
   ]
  },
  {
   "cell_type": "code",
   "execution_count": 89,
   "id": "827861da-d76d-4b49-aa2c-2286ac37b192",
   "metadata": {},
   "outputs": [],
   "source": [
    "q_6_program_2 = \"import sys\\n\\nT = int(sys.stdin.readline().strip())\\nfor t in range (0, T):\\n    n, m = list(map(int, sys.stdin.readline().strip().split()))\\n    P = [[] for i in range (0, n)]\\n    G = [0] * n\\n    for i in range (0, m):\\n        x, y = list(map(int, sys.stdin.readline().strip().split()))\\n        x, y = x-1, y-1\\n        P[y].append(x)\\n    ans = []\\n    for i in range (0, n):\\n        for j in P[i]:\\n            for k in P[j]:\\n                if G[j] == 0 and G[k] == 0:\\n                    if G[i] == 0:\\n                        ans.append(str(i+1))\\n                        G[i] = 1\\n                    \\n    print(len(ans))\\n    print(\\\" \\\".join(ans))\\n\""
   ]
  },
  {
   "cell_type": "code",
   "execution_count": 93,
   "id": "6ebce3e1-5b13-43a3-877a-0480bdd7433d",
   "metadata": {},
   "outputs": [],
   "source": [
    "solution_7 = ds_pandas.iloc[7][\"solutions\"]"
   ]
  },
  {
   "cell_type": "code",
   "execution_count": 94,
   "id": "e104a680-c85e-466c-8a76-8f8b16d4b4b6",
   "metadata": {},
   "outputs": [],
   "source": [
    "q_7_solutions_list = solution_7.split(\"\\\", \\\"\")"
   ]
  },
  {
   "cell_type": "code",
   "execution_count": 95,
   "id": "2636bf84-b4b3-43a7-86a2-ff92a5852fbf",
   "metadata": {},
   "outputs": [
    {
     "name": "stdout",
     "output_type": "stream",
     "text": [
      "[\"import sys\\ndef I():\\n    return sys.stdin.readline().rstrip()\\n\\nclass Heap:\\n    def __init__( self ):\\n        self.l = [ -1 ]\\n        self.n = 0\\n    def n( self ):\\n        return self.n\\n    def top( self ):\\n        return self.l[ 1 ]\\n    def ins( self, x ):\\n        self.l.append( x )\\n        n = len( self.l ) - 1\\n        i = n\\n        while i > 1:\\n            j = i // 2\\n            if self.l[ j ] > self.l[ i ]:\\n                self.l[ j ], self.l[ i ] = self.l[ i ], self.l[ j ]\\n                i = j\\n            else:\\n                break\\n    def pop( self ):\\n        r = self.l[ 1 ]\\n        l = self.l.pop()\\n        n = len( self.l ) - 1\\n        if n:\\n            self.l[ 1 ] = l\\n            i = 1\\n            while True:\\n                j = i * 2\\n                k = j + 1\\n                if k < len( self.l ) and self.l[ i ] > max( self.l[ j ], self.l[ k ] ):\\n                    if self.l[ j ] == min( self.l[ j ], self.l[ k ] ):\\n                        self.l[ i ], self.l[ j ] = self.l[ j ], self.l[ i ]\\n                        i = j\\n                    else:\\n                        self.l[ i ], self.l[ k ] = self.l[ k ], self.l[ i ]\\n                        i = k\\n                elif k < len( self.l ) and self.l[ i ] > self.l[ k ]:\\n                    self.l[ i ], self.l[ k ] = self.l[ k ], self.l[ i ]\\n                    i = k\\n                elif j < len( self.l ) and self.l[ i ] > self.l[ j ]:\\n                    self.l[ i ], self.l[ j ] = self.l[ j ], self.l[ i ]\\n                    i = j\\n                else:\\n                    break\\n        return r\\n\\nt = int( I() )\\nfor _ in range( t ):\\n    n = int( I() )\\n    voter = [ list( map( int, I().split() ) ) for _ in range( n ) ]\\n    h = Heap()\\n    d = {}\\n    for m, p in voter:\\n        if m not in d:\\n            d[ m ] = []\\n        d[ m ].append( p )\\n    need = {}\\n    c = 0\\n    sk = sorted( d.keys() )\\n    for m in sk:\\n        need[ m ] = max( 0, m - c )\\n        c += len( d[ m ] )\\n    c = 0\\n    ans = 0\\n    for m in sk[::-1]:\\n        for p in d[ m ]:\\n            h.ins( p )\\n        while c < need[ m ]:\\n            c += 1\\n            ans += h.pop()\\n    print( ans )\\n\n"
     ]
    }
   ],
   "source": [
    "print(q_7_solutions_list[0])"
   ]
  },
  {
   "cell_type": "code",
   "execution_count": 96,
   "id": "cee431c0-c202-4c68-8ea4-5b7708362116",
   "metadata": {},
   "outputs": [
    {
     "name": "stdout",
     "output_type": "stream",
     "text": [
      "import heapq\\nimport sys\\ninput = sys.stdin.readline\\n\\n\\nt = int(input())\\nfor _ in range(t):\\n    n = int(input())\\n    info = [list(map(int, input().split())) for i in range(n)]\\n    info = sorted(info)\\n    cnt = [0] * n\\n    for i in range(n):\\n        ind = info[i][0]\\n        cnt[ind] += 1\\n    ruiseki_cnt = [0] * (n+1)\\n    for i in range(n):\\n        ruiseki_cnt[i+1] = ruiseki_cnt[i] + cnt[i]\\n    # print(cnt)\\n    # print(ruiseki_cnt)\\n    need = [0] * n\\n    for i in range(1,n):\\n        if cnt[i] != 0 and i > ruiseki_cnt[i]:\\n            need[i] = min(i - ruiseki_cnt[i], i)\\n    # print(need)\\n    info = sorted(info, reverse = True)\\n    #print(info)\\n\\n    num = n - 1\\n    pos = 0\\n    q = []\\n    used_cnt = 0\\n    ans = 0\\n    while True:\\n        if num == -1:\\n            break\\n        while True:\\n            if pos < n and info[pos][0] >= num:\\n                heapq.heappush(q, info[pos][1])\\n                pos += 1\\n            else:\\n                break\\n        if need[num] - used_cnt > 0:\\n            tmp = need[num] - used_cnt\\n            for _ in range(tmp):\\n                ans += heapq.heappop(q)\\n            used_cnt += tmp\\n        num -= 1\\n    print(ans)\n"
     ]
    }
   ],
   "source": [
    "print(q_7_solutions_list[1])"
   ]
  },
  {
   "cell_type": "code",
   "execution_count": 99,
   "id": "2f9a094d-eeb3-4b96-b0f1-a9b27638a972",
   "metadata": {},
   "outputs": [
    {
     "name": "stdout",
     "output_type": "stream",
     "text": [
      "import sys\\ninput = sys.stdin.readline\\n\\nimport heapq\\nfrom itertools import accumulate\\n\\nt=int(input())\\n\\nfor test in range(t):\\n    n=int(input())\\n    M=[[] for i in range(n)]\\n    MCOUNT=[0]*(n)\\n\\n    for i in range(n):\\n        m,p=list(map(int,input().split()))\\n        M[m].append(p)\\n        MCOUNT[m]+=1\\n\\n    #print(M)\\n    #print(MCOUNT)\\n\\n    ACC=list(accumulate(MCOUNT))\\n\\n    #print(ACC)\\n    HQ=[]\\n    ANS=0\\n    use=0\\n\\n    for i in range(n-1,-1,-1):\\n        for j in M[i]:\\n            heapq.heappush(HQ,j)\\n\\n        #print(HQ)\\n            \\n        while ACC[i-1]+use<i:\\n            x=heapq.heappop(HQ)\\n            ANS+=x\\n            use+=1\\n\\n\\n\\n    print(ANS)\\n            \\n            \\n        \\n        \\n        \\n\\n    \\n\\n    \\n\n"
     ]
    }
   ],
   "source": [
    "print(q_7_solutions_list[2])"
   ]
  },
  {
   "cell_type": "code",
   "execution_count": 97,
   "id": "ac16f416-2335-4f7c-bb44-6f36f3ea6181",
   "metadata": {},
   "outputs": [],
   "source": [
    "q_7_program_0 = \"import sys\\ndef I():\\n    return sys.stdin.readline().rstrip()\\n\\nclass Heap:\\n    def __init__( self ):\\n        self.l = [ -1 ]\\n        self.n = 0\\n    def n( self ):\\n        return self.n\\n    def top( self ):\\n        return self.l[ 1 ]\\n    def ins( self, x ):\\n        self.l.append( x )\\n        n = len( self.l ) - 1\\n        i = n\\n        while i > 1:\\n            j = i // 2\\n            if self.l[ j ] > self.l[ i ]:\\n                self.l[ j ], self.l[ i ] = self.l[ i ], self.l[ j ]\\n                i = j\\n            else:\\n                break\\n    def pop( self ):\\n        r = self.l[ 1 ]\\n        l = self.l.pop()\\n        n = len( self.l ) - 1\\n        if n:\\n            self.l[ 1 ] = l\\n            i = 1\\n            while True:\\n                j = i * 2\\n                k = j + 1\\n                if k < len( self.l ) and self.l[ i ] > max( self.l[ j ], self.l[ k ] ):\\n                    if self.l[ j ] == min( self.l[ j ], self.l[ k ] ):\\n                        self.l[ i ], self.l[ j ] = self.l[ j ], self.l[ i ]\\n                        i = j\\n                    else:\\n                        self.l[ i ], self.l[ k ] = self.l[ k ], self.l[ i ]\\n                        i = k\\n                elif k < len( self.l ) and self.l[ i ] > self.l[ k ]:\\n                    self.l[ i ], self.l[ k ] = self.l[ k ], self.l[ i ]\\n                    i = k\\n                elif j < len( self.l ) and self.l[ i ] > self.l[ j ]:\\n                    self.l[ i ], self.l[ j ] = self.l[ j ], self.l[ i ]\\n                    i = j\\n                else:\\n                    break\\n        return r\\n\\nt = int( I() )\\nfor _ in range( t ):\\n    n = int( I() )\\n    voter = [ list( map( int, I().split() ) ) for _ in range( n ) ]\\n    h = Heap()\\n    d = {}\\n    for m, p in voter:\\n        if m not in d:\\n            d[ m ] = []\\n        d[ m ].append( p )\\n    need = {}\\n    c = 0\\n    sk = sorted( d.keys() )\\n    for m in sk:\\n        need[ m ] = max( 0, m - c )\\n        c += len( d[ m ] )\\n    c = 0\\n    ans = 0\\n    for m in sk[::-1]:\\n        for p in d[ m ]:\\n            h.ins( p )\\n        while c < need[ m ]:\\n            c += 1\\n            ans += h.pop()\\n    print( ans )\\n\""
   ]
  },
  {
   "cell_type": "code",
   "execution_count": 98,
   "id": "f2a0413e-ea60-40b5-8952-80450a115d30",
   "metadata": {},
   "outputs": [],
   "source": [
    "q_7_program_1 = \"import heapq\\nimport sys\\ninput = sys.stdin.readline\\n\\n\\nt = int(input())\\nfor _ in range(t):\\n    n = int(input())\\n    info = [list(map(int, input().split())) for i in range(n)]\\n    info = sorted(info)\\n    cnt = [0] * n\\n    for i in range(n):\\n        ind = info[i][0]\\n        cnt[ind] += 1\\n    ruiseki_cnt = [0] * (n+1)\\n    for i in range(n):\\n        ruiseki_cnt[i+1] = ruiseki_cnt[i] + cnt[i]\\n    # print(cnt)\\n    # print(ruiseki_cnt)\\n    need = [0] * n\\n    for i in range(1,n):\\n        if cnt[i] != 0 and i > ruiseki_cnt[i]:\\n            need[i] = min(i - ruiseki_cnt[i], i)\\n    # print(need)\\n    info = sorted(info, reverse = True)\\n    #print(info)\\n\\n    num = n - 1\\n    pos = 0\\n    q = []\\n    used_cnt = 0\\n    ans = 0\\n    while True:\\n        if num == -1:\\n            break\\n        while True:\\n            if pos < n and info[pos][0] >= num:\\n                heapq.heappush(q, info[pos][1])\\n                pos += 1\\n            else:\\n                break\\n        if need[num] - used_cnt > 0:\\n            tmp = need[num] - used_cnt\\n            for _ in range(tmp):\\n                ans += heapq.heappop(q)\\n            used_cnt += tmp\\n        num -= 1\\n    print(ans)\""
   ]
  },
  {
   "cell_type": "code",
   "execution_count": 100,
   "id": "065f484f-203f-4e30-828c-11248a052a24",
   "metadata": {},
   "outputs": [],
   "source": [
    "q_7_program_2 = \"import sys\\ninput = sys.stdin.readline\\n\\nimport heapq\\nfrom itertools import accumulate\\n\\nt=int(input())\\n\\nfor test in range(t):\\n    n=int(input())\\n    M=[[] for i in range(n)]\\n    MCOUNT=[0]*(n)\\n\\n    for i in range(n):\\n        m,p=list(map(int,input().split()))\\n        M[m].append(p)\\n        MCOUNT[m]+=1\\n\\n    #print(M)\\n    #print(MCOUNT)\\n\\n    ACC=list(accumulate(MCOUNT))\\n\\n    #print(ACC)\\n    HQ=[]\\n    ANS=0\\n    use=0\\n\\n    for i in range(n-1,-1,-1):\\n        for j in M[i]:\\n            heapq.heappush(HQ,j)\\n\\n        #print(HQ)\\n            \\n        while ACC[i-1]+use<i:\\n            x=heapq.heappop(HQ)\\n            ANS+=x\\n            use+=1\\n\\n\\n\\n    print(ANS)\\n            \\n            \\n        \\n        \\n        \\n\\n    \\n\\n    \\n\""
   ]
  },
  {
   "cell_type": "code",
   "execution_count": 104,
   "id": "2733bbb5-934d-4060-ad68-fee7751900b1",
   "metadata": {},
   "outputs": [],
   "source": [
    "solution_8 = ds_pandas.iloc[8][\"solutions\"]"
   ]
  },
  {
   "cell_type": "code",
   "execution_count": 105,
   "id": "1bc7e992-3f89-4fd2-8003-701b36d87903",
   "metadata": {},
   "outputs": [],
   "source": [
    "q_8_solutions_list = solution_8.split(\"\\\", \\\"\")"
   ]
  },
  {
   "cell_type": "code",
   "execution_count": 106,
   "id": "279f0c6b-e00c-429a-b9e6-99f865584ef2",
   "metadata": {},
   "outputs": [
    {
     "name": "stdout",
     "output_type": "stream",
     "text": [
      "[\"import sys\\ninput = sys.stdin.readline\\n\\ndef main():\\n    n, k = map(int, input().split())\\n    string = input().strip()\\n    if \\\"W\\\" not in string:\\n        ans = min(n, k) * 2 - 1\\n        print(max(ans, 0))\\n        return\\n        \\n    L_s = []\\n    cnt = 0\\n    bef = string[0]\\n    ans = 0\\n    for s in string:\\n        if s == bef:\\n            cnt += 1\\n        else:\\n            if bef == \\\"L\\\":\\n                L_s.append(cnt)\\n            else:\\n                ans += cnt * 2 - 1\\n            cnt = 1\\n        bef = s\\n    if bef == \\\"W\\\":\\n        ans += cnt * 2 - 1\\n        cnt = 0\\n        \\n    if string[0] == \\\"L\\\" and L_s:\\n        cnt += L_s[0]\\n        L_s = L_s[1:]\\n    L_s.sort()\\n    for l in L_s:\\n        if k >= l:\\n            ans += l * 2 + 1\\n            k -= l\\n        else:\\n            ans += k * 2\\n            k = 0\\n            \\n    ans += 2 * min(k, cnt)\\n    print(ans)\\n    \\n    \\n    \\nfor _ in range(int(input())):\\n    main()\n"
     ]
    }
   ],
   "source": [
    "print(q_8_solutions_list[0])"
   ]
  },
  {
   "cell_type": "code",
   "execution_count": 108,
   "id": "aabe57fa-596c-4f94-beab-4a44ada196a2",
   "metadata": {},
   "outputs": [
    {
     "name": "stdout",
     "output_type": "stream",
     "text": [
      "import sys\\n\\ninput = sys.stdin.readline\\n\\nfor _ in range(int(input())):\\n    n,k = map(int,input().split())\\n    s = input()\\n    s = [s[i] for i in range(n)]\\n\\n    base = s.count(\\\"W\\\")\\n    if base == 0:\\n        if k:\\n            print(2*k-1)\\n        else:\\n            print(0)\\n    elif base+k>=n:\\n        print(2*n-1)\\n    else:\\n        interval = []\\n        while s and s[-1]==\\\"L\\\":\\n            s.pop()\\n        s = s[::-1]\\n        while s and s[-1]==\\\"L\\\":\\n            s.pop()\\n\\n        while s:\\n            if s[-1]==\\\"W\\\":\\n                while s and s[-1]==\\\"W\\\":\\n                    s.pop()\\n            else:\\n                tmp = 0\\n                while s and s[-1]==\\\"L\\\":\\n                    s.pop()\\n                    tmp += 1\\n                interval.append(tmp)\\n        interval.sort(reverse=True)\\n        K = k\\n        while interval and k:\\n            if k>=interval[-1]:\\n                k -= interval.pop()\\n            else:\\n                break\\n        print(2*(base+K)-1-len(interval))\n"
     ]
    }
   ],
   "source": [
    "print(q_8_solutions_list[1])"
   ]
  },
  {
   "cell_type": "code",
   "execution_count": 110,
   "id": "cf8cbc8b-12ae-4643-8568-1d064219b27a",
   "metadata": {},
   "outputs": [
    {
     "name": "stdout",
     "output_type": "stream",
     "text": [
      "import sys\\ninput = sys.stdin.readline\\n\\n\\ndef compress(string):\\n    string = string + \\\"#\\\"\\n    n = len(string)\\n    begin, end, cnt = 0, 1, 1\\n    ans = []\\n    while end < n:\\n        if string[begin] == string[end]:\\n            end, cnt = end + 1, cnt + 1\\n        else:\\n            ans.append((string[begin], cnt))\\n            begin, end, cnt = end, end + 1, 1\\n    return ans\\n\\n\\nt = int(input())\\nfor _ in range(t):\\n    n, k = map(int, input().split())\\n    s = input()[:-1]\\n    \\n    s = compress(s)\\n\\n    \\n    w_groups = 0\\n    w_cnt = 0\\n    l_cnt = 0\\n    li = []\\n    for i, (char, cnt) in enumerate(s):\\n        if char == \\\"W\\\":\\n            w_groups += 1\\n            w_cnt += cnt\\n        if char == \\\"L\\\":\\n            l_cnt += cnt\\n            if 1 <= i < len(s) - 1:\\n                li.append(cnt)\\n\\n    if w_cnt == 0:\\n        print(max(min(k, l_cnt) * 2 - 1, 0))\\n        continue\\n        \\n    ans = w_cnt * 2 - w_groups\\n    ans += min(k, l_cnt) * 2\\n\\n    li.sort()\\n    for val in li:\\n        if k >= val:\\n            ans += 1\\n            k -= val\\n    print(ans)\n"
     ]
    }
   ],
   "source": [
    "print(q_8_solutions_list[2])"
   ]
  },
  {
   "cell_type": "code",
   "execution_count": 107,
   "id": "bfd5384d-eea4-4b3c-acdc-8a814f5116c9",
   "metadata": {},
   "outputs": [],
   "source": [
    "q_8_program_0 = \"import sys\\ninput = sys.stdin.readline\\n\\ndef main():\\n    n, k = map(int, input().split())\\n    string = input().strip()\\n    if \\\"W\\\" not in string:\\n        ans = min(n, k) * 2 - 1\\n        print(max(ans, 0))\\n        return\\n        \\n    L_s = []\\n    cnt = 0\\n    bef = string[0]\\n    ans = 0\\n    for s in string:\\n        if s == bef:\\n            cnt += 1\\n        else:\\n            if bef == \\\"L\\\":\\n                L_s.append(cnt)\\n            else:\\n                ans += cnt * 2 - 1\\n            cnt = 1\\n        bef = s\\n    if bef == \\\"W\\\":\\n        ans += cnt * 2 - 1\\n        cnt = 0\\n        \\n    if string[0] == \\\"L\\\" and L_s:\\n        cnt += L_s[0]\\n        L_s = L_s[1:]\\n    L_s.sort()\\n    for l in L_s:\\n        if k >= l:\\n            ans += l * 2 + 1\\n            k -= l\\n        else:\\n            ans += k * 2\\n            k = 0\\n            \\n    ans += 2 * min(k, cnt)\\n    print(ans)\\n    \\n    \\n    \\nfor _ in range(int(input())):\\n    main()\""
   ]
  },
  {
   "cell_type": "code",
   "execution_count": 109,
   "id": "dbbc27c3-6d66-462a-bd53-eff12be60b8d",
   "metadata": {},
   "outputs": [],
   "source": [
    "q_8_program_1 = \"import sys\\n\\ninput = sys.stdin.readline\\n\\nfor _ in range(int(input())):\\n    n,k = map(int,input().split())\\n    s = input()\\n    s = [s[i] for i in range(n)]\\n\\n    base = s.count(\\\"W\\\")\\n    if base == 0:\\n        if k:\\n            print(2*k-1)\\n        else:\\n            print(0)\\n    elif base+k>=n:\\n        print(2*n-1)\\n    else:\\n        interval = []\\n        while s and s[-1]==\\\"L\\\":\\n            s.pop()\\n        s = s[::-1]\\n        while s and s[-1]==\\\"L\\\":\\n            s.pop()\\n\\n        while s:\\n            if s[-1]==\\\"W\\\":\\n                while s and s[-1]==\\\"W\\\":\\n                    s.pop()\\n            else:\\n                tmp = 0\\n                while s and s[-1]==\\\"L\\\":\\n                    s.pop()\\n                    tmp += 1\\n                interval.append(tmp)\\n        interval.sort(reverse=True)\\n        K = k\\n        while interval and k:\\n            if k>=interval[-1]:\\n                k -= interval.pop()\\n            else:\\n                break\\n        print(2*(base+K)-1-len(interval))\""
   ]
  },
  {
   "cell_type": "code",
   "execution_count": 111,
   "id": "631fce3f-7c09-415d-8fc4-5a2a0c9c3a20",
   "metadata": {},
   "outputs": [],
   "source": [
    "q_8_program_2 = \"import sys\\ninput = sys.stdin.readline\\n\\n\\ndef compress(string):\\n    string = string + \\\"#\\\"\\n    n = len(string)\\n    begin, end, cnt = 0, 1, 1\\n    ans = []\\n    while end < n:\\n        if string[begin] == string[end]:\\n            end, cnt = end + 1, cnt + 1\\n        else:\\n            ans.append((string[begin], cnt))\\n            begin, end, cnt = end, end + 1, 1\\n    return ans\\n\\n\\nt = int(input())\\nfor _ in range(t):\\n    n, k = map(int, input().split())\\n    s = input()[:-1]\\n    \\n    s = compress(s)\\n\\n    \\n    w_groups = 0\\n    w_cnt = 0\\n    l_cnt = 0\\n    li = []\\n    for i, (char, cnt) in enumerate(s):\\n        if char == \\\"W\\\":\\n            w_groups += 1\\n            w_cnt += cnt\\n        if char == \\\"L\\\":\\n            l_cnt += cnt\\n            if 1 <= i < len(s) - 1:\\n                li.append(cnt)\\n\\n    if w_cnt == 0:\\n        print(max(min(k, l_cnt) * 2 - 1, 0))\\n        continue\\n        \\n    ans = w_cnt * 2 - w_groups\\n    ans += min(k, l_cnt) * 2\\n\\n    li.sort()\\n    for val in li:\\n        if k >= val:\\n            ans += 1\\n            k -= val\\n    print(ans)\""
   ]
  },
  {
   "cell_type": "code",
   "execution_count": 116,
   "id": "9274234d-966f-465b-b9da-06490c63804d",
   "metadata": {},
   "outputs": [],
   "source": [
    "solution_9 = ds_pandas.iloc[9][\"solutions\"]"
   ]
  },
  {
   "cell_type": "code",
   "execution_count": 117,
   "id": "5f8862e0-b97b-461c-ad77-7210a3bc43b9",
   "metadata": {},
   "outputs": [],
   "source": [
    "q_9_solutions_list = solution_9.split(\"\\\", \\\"\")"
   ]
  },
  {
   "cell_type": "code",
   "execution_count": 119,
   "id": "748cf84b-f95e-47c3-b387-f3cbb0990015",
   "metadata": {},
   "outputs": [
    {
     "name": "stdout",
     "output_type": "stream",
     "text": [
      "[\"for _ in range(int(input())):\\n    s = input()\\n    p = [i for i in s.split(\\\"0\\\") if i!=\\\"\\\"]\\n    p.sort(reverse=True)\\n    ans = 0\\n    for i in range(0,len(p),2):\\n        ans+=len(p[i])\\n    print(ans)\\n\\n\n"
     ]
    }
   ],
   "source": [
    "print(q_9_solutions_list[0])"
   ]
  },
  {
   "cell_type": "code",
   "execution_count": 121,
   "id": "6d103682-242a-4055-abb8-091d5c24e3d5",
   "metadata": {},
   "outputs": [
    {
     "name": "stdout",
     "output_type": "stream",
     "text": [
      "for _ in range(int(input())):\\n    s=[len(i)for i in input().split('0')]\\n    s.sort()\\n    print(sum(s[-1::-2]))\n"
     ]
    }
   ],
   "source": [
    "print(q_9_solutions_list[1])"
   ]
  },
  {
   "cell_type": "code",
   "execution_count": 123,
   "id": "86039c03-41c6-47aa-ac26-cc1f31fe71fd",
   "metadata": {},
   "outputs": [
    {
     "name": "stdout",
     "output_type": "stream",
     "text": [
      "for _ in range(int(input())):\\n    s = input()\\n    t = [i for i in s.split(\\\"0\\\") if i!=\\\"\\\"]\\n    t.sort(reverse=True)\\n    cnt=0\\n    for i in range(0,len(t),2):\\n        cnt+=len(t[i])\\n    print(cnt)\n"
     ]
    }
   ],
   "source": [
    "print(q_9_solutions_list[2])"
   ]
  },
  {
   "cell_type": "code",
   "execution_count": 120,
   "id": "b0eb224d-e2fc-4e76-a38a-9356c7c19171",
   "metadata": {},
   "outputs": [],
   "source": [
    "q_9_program_0 = \"for _ in range(int(input())):\\n    s = input()\\n    p = [i for i in s.split(\\\"0\\\") if i!=\\\"\\\"]\\n    p.sort(reverse=True)\\n    ans = 0\\n    for i in range(0,len(p),2):\\n        ans+=len(p[i])\\n    print(ans)\\n\\n\""
   ]
  },
  {
   "cell_type": "code",
   "execution_count": 122,
   "id": "767db96d-c0ac-4b91-aa2b-7a8c0f4e8c8e",
   "metadata": {},
   "outputs": [],
   "source": [
    "q_9_program_1 = \"for _ in range(int(input())):\\n    s=[len(i)for i in input().split('0')]\\n    s.sort()\\n    print(sum(s[-1::-2]))\""
   ]
  },
  {
   "cell_type": "code",
   "execution_count": 124,
   "id": "428e5781-2d16-4f85-aeff-c2614fa72414",
   "metadata": {},
   "outputs": [],
   "source": [
    "q_9_program_2 = \"for _ in range(int(input())):\\n    s = input()\\n    t = [i for i in s.split(\\\"0\\\") if i!=\\\"\\\"]\\n    t.sort(reverse=True)\\n    cnt=0\\n    for i in range(0,len(t),2):\\n        cnt+=len(t[i])\\n    print(cnt)\""
   ]
  },
  {
   "cell_type": "code",
   "execution_count": 130,
   "id": "f9e7de30-ca68-4e6c-93fa-50974a399cd1",
   "metadata": {},
   "outputs": [],
   "source": [
    "q_0_prompt = ds_pandas.iloc[0][\"question\"]\n",
    "q_2_prompt = ds_pandas.iloc[2][\"question\"]\n",
    "q_4_prompt = ds_pandas.iloc[4][\"question\"]\n",
    "q_5_prompt = ds_pandas.iloc[5][\"question\"]"
   ]
  },
  {
   "cell_type": "code",
   "execution_count": 131,
   "id": "80da4b30-efff-4ffe-9016-eedc19907c31",
   "metadata": {},
   "outputs": [],
   "source": [
    "dictionary = {\n",
    "    q_0_prompt: [q_0_program_1, q_0_program_2],\n",
    "    q_2_prompt: [q_2_program_0,q_2_program_1,q_2_program_2],\n",
    "    q_4_prompt: [q_4_program_0],\n",
    "    q_5_prompt: [q_5_program_0]\n",
    "}"
   ]
  },
  {
   "cell_type": "code",
   "execution_count": 132,
   "id": "ca5590ef-e9e5-41e0-9988-31b95cfaa658",
   "metadata": {},
   "outputs": [],
   "source": [
    "import pickle\n",
    "pickle.dump(dictionary, open('prompt_solutions_APPS.p', 'wb'))"
   ]
  },
  {
   "cell_type": "code",
   "execution_count": 138,
   "id": "0bb604d3-adc0-4b81-addf-e5e7f7287c6f",
   "metadata": {},
   "outputs": [
    {
     "ename": "EOFError",
     "evalue": "Ran out of input",
     "output_type": "error",
     "traceback": [
      "\u001b[0;31m---------------------------------------------------------------------------\u001b[0m",
      "\u001b[0;31mEOFError\u001b[0m                                  Traceback (most recent call last)",
      "Cell \u001b[0;32mIn[138], line 2\u001b[0m\n\u001b[1;32m      1\u001b[0m \u001b[38;5;28;01mwith\u001b[39;00m \u001b[38;5;28mopen\u001b[39m(\u001b[38;5;124m'\u001b[39m\u001b[38;5;124mprompt_solutions_APPS.p\u001b[39m\u001b[38;5;124m'\u001b[39m, \u001b[38;5;124m'\u001b[39m\u001b[38;5;124mrb\u001b[39m\u001b[38;5;124m'\u001b[39m) \u001b[38;5;28;01mas\u001b[39;00m fp:\n\u001b[0;32m----> 2\u001b[0m     banana \u001b[38;5;241m=\u001b[39m \u001b[43mpickle\u001b[49m\u001b[38;5;241;43m.\u001b[39;49m\u001b[43mload\u001b[49m\u001b[43m(\u001b[49m\u001b[43mfp\u001b[49m\u001b[43m)\u001b[49m\n",
      "\u001b[0;31mEOFError\u001b[0m: Ran out of input"
     ]
    }
   ],
   "source": [
    "with open('prompt_solutions_APPS.p', 'rb') as fp:\n",
    "    banana = pickle.load(fp)"
   ]
  },
  {
   "cell_type": "code",
   "execution_count": 139,
   "id": "c0c2569e-db1d-41a2-b35f-b980364c65fb",
   "metadata": {},
   "outputs": [],
   "source": [
    "import json\n",
    "with open('prompt_solutions_APPS.json', 'w') as fp:\n",
    "    json.dump(dictionary, fp)"
   ]
  },
  {
   "cell_type": "code",
   "execution_count": 141,
   "id": "ad94e7a5-5835-4a96-8735-2820e383f035",
   "metadata": {},
   "outputs": [],
   "source": [
    "# Opening JSON file\n",
    "f = open('prompt_solutions_APPS.json',)\n",
    " \n",
    "# returns JSON object as \n",
    "# a dictionary\n",
    "data = json.load(f)"
   ]
  },
  {
   "cell_type": "code",
   "execution_count": 144,
   "id": "eb1ebc16-0d41-4015-aa70-a5682ac6db66",
   "metadata": {},
   "outputs": [
    {
     "name": "stdout",
     "output_type": "stream",
     "text": [
      "4\n"
     ]
    }
   ],
   "source": [
    "print(len(data.keys()))"
   ]
  },
  {
   "cell_type": "code",
   "execution_count": null,
   "id": "701c43db-adbc-4eb9-a032-88493165e604",
   "metadata": {},
   "outputs": [],
   "source": []
  }
 ],
 "metadata": {
  "kernelspec": {
   "display_name": "Python 3 (ipykernel)",
   "language": "python",
   "name": "python3"
  },
  "language_info": {
   "codemirror_mode": {
    "name": "ipython",
    "version": 3
   },
   "file_extension": ".py",
   "mimetype": "text/x-python",
   "name": "python",
   "nbconvert_exporter": "python",
   "pygments_lexer": "ipython3",
   "version": "3.10.13"
  }
 },
 "nbformat": 4,
 "nbformat_minor": 5
}
