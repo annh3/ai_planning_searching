{
 "cells": [
  {
   "cell_type": "code",
   "execution_count": 1,
   "id": "64749fe8-9d3c-4710-8287-f331a3f9e9f1",
   "metadata": {},
   "outputs": [
    {
     "name": "stderr",
     "output_type": "stream",
     "text": [
      "WARNING:absl:WARNING: The JSON-LD `@context` is not standard. Refer to the official @context (e.g., from the example datasets in https://github.com/mlcommons/croissant/tree/main/datasets/1.0). The different keys are: {'rai', 'examples'}\n",
      "WARNING:absl:Found the following 3 warning(s) during the validation:\n",
      "  -  [Metadata(apps)] Property \"http://mlcommons.org/croissant/citeAs\" is recommended, but does not exist.\n",
      "  -  [Metadata(apps)] Property \"https://schema.org/datePublished\" is recommended, but does not exist.\n",
      "  -  [Metadata(apps)] Property \"https://schema.org/version\" is recommended, but does not exist.\n"
     ]
    }
   ],
   "source": [
    "from mlcroissant import Dataset\n",
    "\n",
    "ds = Dataset(jsonld=\"https://huggingface.co/api/datasets/codeparrot/apps/croissant\")\n",
    "records = ds.records(\"all\")"
   ]
  },
  {
   "cell_type": "code",
   "execution_count": null,
   "id": "9c8f3f40-e605-4b39-9f0d-bbc268392d6d",
   "metadata": {},
   "outputs": [],
   "source": []
  },
  {
   "cell_type": "code",
   "execution_count": null,
   "id": "ef2b4aa8-19f9-4ccb-b6c3-b4d323e9cfd9",
   "metadata": {},
   "outputs": [],
   "source": []
  }
 ],
 "metadata": {
  "kernelspec": {
   "display_name": "Python 3 (ipykernel)",
   "language": "python",
   "name": "python3"
  },
  "language_info": {
   "codemirror_mode": {
    "name": "ipython",
    "version": 3
   },
   "file_extension": ".py",
   "mimetype": "text/x-python",
   "name": "python",
   "nbconvert_exporter": "python",
   "pygments_lexer": "ipython3",
   "version": "3.10.14"
  }
 },
 "nbformat": 4,
 "nbformat_minor": 5
}
