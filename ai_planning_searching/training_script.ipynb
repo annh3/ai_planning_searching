{
 "cells": [
  {
   "cell_type": "code",
   "execution_count": 1,
   "id": "2ed85322",
   "metadata": {},
   "outputs": [
    {
     "name": "stderr",
     "output_type": "stream",
     "text": [
      "2024-09-09 10:35:49.994733: I tensorflow/core/platform/cpu_feature_guard.cc:182] This TensorFlow binary is optimized to use available CPU instructions in performance-critical operations.\n",
      "To enable the following instructions: SSE4.1 SSE4.2 AVX AVX2 FMA, in other operations, rebuild TensorFlow with the appropriate compiler flags.\n"
     ]
    }
   ],
   "source": [
    "import numpy as np\n",
    "import random\n",
    "import torch\n",
    "from torch.nn import functional as F\n",
    "import transformers\n",
    "import pdb\n",
    "from datasets import load_dataset, Dataset\n",
    "from transformers import get_linear_schedule_with_warmup\n",
    "from transformers import AdamW\n",
    "from transformers import GPT2LMHeadModel\n",
    "from transformers import GPT2TokenizerFast\n",
    "from transformers import Trainer\n",
    "from transformers import TrainingArguments, Seq2SeqTrainingArguments\n",
    "from transformers import AutoTokenizer, AutoModelForSeq2SeqLM"
   ]
  },
  {
   "cell_type": "markdown",
   "id": "15d0790c",
   "metadata": {},
   "source": [
    "# **Finetuning an Encoder-Decoder model (T5) on an autoregressive language modeling task**"
   ]
  },
  {
   "cell_type": "code",
   "execution_count": 2,
   "id": "0d818804",
   "metadata": {},
   "outputs": [],
   "source": [
    "def load_init_model_optimizer_tokenizer():\n",
    "    pretrained_weights = 'google-t5/t5-small'\n",
    "    model = AutoModelForSeq2SeqLM.from_pretrained(pretrained_weights)\n",
    "    tokenizer = AutoTokenizer.from_pretrained(pretrained_weights)\n",
    "    # models are usually loaded in eval() mode, so set this to train()\n",
    "    model.train()\n",
    "    # initialize the optimizer\n",
    "    optimizer = AdamW(model.parameters(), lr=1e-5)\n",
    "    # using weight decay\n",
    "    no_decay = ['bias', 'LayerNorm.weight']\n",
    "    optimizer_grouped_parameters = [\n",
    "        {'params': [p for n, p in model.named_parameters() if not any(nd in n for nd in no_decay)], 'weight_decay': 0.01},\n",
    "        {'params': [p for n, p in model.named_parameters() if any(nd in n for nd in no_decay)], 'weight_decay': 0.0}\n",
    "    ]\n",
    "    optimizer = AdamW(optimizer_grouped_parameters, lr=1e-5)\n",
    "\n",
    "    return model, optimizer, tokenizer"
   ]
  },
  {
   "cell_type": "code",
   "execution_count": 3,
   "id": "bd2c0d80",
   "metadata": {},
   "outputs": [
    {
     "name": "stderr",
     "output_type": "stream",
     "text": [
      "/Users/annhe/anaconda3/envs/agency/lib/python3.10/site-packages/transformers/optimization.py:591: FutureWarning: This implementation of AdamW is deprecated and will be removed in a future version. Use the PyTorch implementation torch.optim.AdamW instead, or set `no_deprecation_warning=True` to disable this warning\n",
      "  warnings.warn(\n",
      "/Users/annhe/anaconda3/envs/agency/lib/python3.10/site-packages/transformers/optimization.py:591: FutureWarning: This implementation of AdamW is deprecated and will be removed in a future version. Use the PyTorch implementation torch.optim.AdamW instead, or set `no_deprecation_warning=True` to disable this warning\n",
      "  warnings.warn(\n"
     ]
    }
   ],
   "source": [
    "model, optimizer, tokenizer = load_init_model_optimizer_tokenizer()"
   ]
  },
  {
   "cell_type": "code",
   "execution_count": 4,
   "id": "e43d0378",
   "metadata": {},
   "outputs": [
    {
     "name": "stdout",
     "output_type": "stream",
     "text": [
      "T5Config {\n",
      "  \"_name_or_path\": \"google-t5/t5-small\",\n",
      "  \"architectures\": [\n",
      "    \"T5ForConditionalGeneration\"\n",
      "  ],\n",
      "  \"classifier_dropout\": 0.0,\n",
      "  \"d_ff\": 2048,\n",
      "  \"d_kv\": 64,\n",
      "  \"d_model\": 512,\n",
      "  \"decoder_start_token_id\": 0,\n",
      "  \"dense_act_fn\": \"relu\",\n",
      "  \"dropout_rate\": 0.1,\n",
      "  \"eos_token_id\": 1,\n",
      "  \"feed_forward_proj\": \"relu\",\n",
      "  \"initializer_factor\": 1.0,\n",
      "  \"is_encoder_decoder\": true,\n",
      "  \"is_gated_act\": false,\n",
      "  \"layer_norm_epsilon\": 1e-06,\n",
      "  \"model_type\": \"t5\",\n",
      "  \"n_positions\": 512,\n",
      "  \"num_decoder_layers\": 6,\n",
      "  \"num_heads\": 8,\n",
      "  \"num_layers\": 6,\n",
      "  \"output_past\": true,\n",
      "  \"pad_token_id\": 0,\n",
      "  \"relative_attention_max_distance\": 128,\n",
      "  \"relative_attention_num_buckets\": 32,\n",
      "  \"task_specific_params\": {\n",
      "    \"summarization\": {\n",
      "      \"early_stopping\": true,\n",
      "      \"length_penalty\": 2.0,\n",
      "      \"max_length\": 200,\n",
      "      \"min_length\": 30,\n",
      "      \"no_repeat_ngram_size\": 3,\n",
      "      \"num_beams\": 4,\n",
      "      \"prefix\": \"summarize: \"\n",
      "    },\n",
      "    \"translation_en_to_de\": {\n",
      "      \"early_stopping\": true,\n",
      "      \"max_length\": 300,\n",
      "      \"num_beams\": 4,\n",
      "      \"prefix\": \"translate English to German: \"\n",
      "    },\n",
      "    \"translation_en_to_fr\": {\n",
      "      \"early_stopping\": true,\n",
      "      \"max_length\": 300,\n",
      "      \"num_beams\": 4,\n",
      "      \"prefix\": \"translate English to French: \"\n",
      "    },\n",
      "    \"translation_en_to_ro\": {\n",
      "      \"early_stopping\": true,\n",
      "      \"max_length\": 300,\n",
      "      \"num_beams\": 4,\n",
      "      \"prefix\": \"translate English to Romanian: \"\n",
      "    }\n",
      "  },\n",
      "  \"transformers_version\": \"4.44.2\",\n",
      "  \"use_cache\": true,\n",
      "  \"vocab_size\": 32128\n",
      "}\n",
      "\n"
     ]
    }
   ],
   "source": [
    "print(model.config)"
   ]
  },
  {
   "cell_type": "code",
   "execution_count": 5,
   "id": "388ff6d3",
   "metadata": {},
   "outputs": [
    {
     "data": {
      "text/plain": [
       "'This dataset is designed to generate lyrics with HuggingArtists.\\n'"
      ]
     },
     "execution_count": 5,
     "metadata": {},
     "output_type": "execute_result"
    }
   ],
   "source": [
    "train_dataset = load_dataset(\"huggingartists/taylor-swift\", split=\"train\")\n",
    "train_dataset.info.description"
   ]
  },
  {
   "cell_type": "markdown",
   "id": "22f64fd0",
   "metadata": {},
   "source": [
    "Let's display an entry of the dataset."
   ]
  },
  {
   "cell_type": "code",
   "execution_count": 6,
   "id": "92dce890",
   "metadata": {},
   "outputs": [
    {
     "data": {
      "text/html": [
       "<table border=\"1\" class=\"dataframe\">\n",
       "  <thead>\n",
       "    <tr style=\"text-align: right;\">\n",
       "      <th></th>\n",
       "      <th>text</th>\n",
       "    </tr>\n",
       "  </thead>\n",
       "  <tbody>\n",
       "    <tr>\n",
       "      <th>0</th>\n",
       "      <td>Car rides to Malibu\\nStrawberry ice cream, one spoon for two\\nAnd tradin jackets\\nLaughin’ bout how small it looks on you\\nWatching reruns of Glee\\nBein annoying, singin’ in harmony\\nI bet shes braggin to all her friends, sayin youre so unique, hmm\\nSo when you gonna tell her that we did that, too?\\nShe thinks its special, but its all reused\\nThat was our place, I found it first\\nI made the jokes you tell to her when shes with you\\nDo you get déjà vu when she’s with you?\\nDo you get déjà vu? Hmm\\nDo you get déjà vu, huh?\\nDo you call her, almost say my name?\\n’Cause lets be honest, we kinda do sound the same\\nAnother actress\\nI hate to think that I was just your type\\nAnd I bet that she knows Billy Joel\\n’Cause you played her Uptown Girl\\nYoure singin it together\\nNow I bet you even tell her how you love her\\nIn between the chorus and the verse \\nSo when you gonna tell her that we did that, too?\\nShe thinks its special, but it’s all reused\\nThat was the show we talked about\\nPlayed you the songs shes singing now when shes with you\\nDo you get déjà vu when shes with you?\\nDo you get déjà vu? \\nDo you get déjà vu?\\nStrawberry ice cream in Malibu\\nDont act like we didnt do that shit, too\\nYoure tradin jackets like we used to do\\nPlay her piano, but she doesnt know \\nThat I was the one who taught you Billy Joel \\nA different girl now, but theres nothing new\\nI know you get déjà vu\\nI know you get déjà vu\\nI know you get déjà vu</td>\n",
       "    </tr>\n",
       "  </tbody>\n",
       "</table>"
      ],
      "text/plain": [
       "<IPython.core.display.HTML object>"
      ]
     },
     "metadata": {},
     "output_type": "display_data"
    }
   ],
   "source": [
    "import pandas as pd\n",
    "from IPython.display import display, HTML\n",
    "\n",
    "df = pd.DataFrame(train_dataset[:1])\n",
    "\n",
    "display(HTML(df.to_html()))"
   ]
  },
  {
   "cell_type": "raw",
   "id": "673cd0e0",
   "metadata": {},
   "source": [
    "Make use of the .map() function to transform each training batch into a batch of model inputs.\n",
    "\n",
    "The \"text\" field needs to be tokenized to \"input_ids\"\n",
    "And the \"text\" field needs to be rightshifted and padded to \"decoder_input_ids\""
   ]
  },
  {
   "cell_type": "code",
   "execution_count": 7,
   "id": "3a49d5eb",
   "metadata": {},
   "outputs": [],
   "source": [
    "encoder_max_length = 512\n",
    "decoder_max_length = 512\n",
    "\n",
    "def process_data_to_model_inputs(batch):\n",
    "    # downsample\n",
    "    text = batch['text']\n",
    "    print(len(text))\n",
    "    text = random.sample(text, 10)\n",
    "\n",
    "    \n",
    "    inputs = tokenizer(text, padding=\"max_length\", truncation=True, max_length=encoder_max_length)\n",
    "    output_text = [b[1:] + tokenizer.eos_token for b in text]\n",
    "    outputs = tokenizer(output_text, padding=\"max_length\", truncation=True, max_length=decoder_max_length)\n",
    "\n",
    "    batch['input_ids'] = inputs.input_ids\n",
    "    batch['attention_mask'] = inputs.attention_mask\n",
    "    batch['decoder_input_ids'] = outputs.input_ids\n",
    "    batch['decoder_attention_mask'] = outputs.attention_mask\n",
    "    batch['labels'] = outputs.input_ids.copy()\n",
    "\n",
    "    # because BERT automatically shifts the labels, the labels correspond exactly to `decoder_input_ids`. \n",
    "    # We have to make sure that the PAD token is ignored\n",
    "    # batch[\"labels\"] = [[-100 if token == tokenizer.pad_token_id else token for token in labels] for labels in batch[\"labels\"]]\n",
    "\n",
    "    return batch"
   ]
  },
  {
   "cell_type": "code",
   "execution_count": 8,
   "id": "98d3cd41",
   "metadata": {},
   "outputs": [],
   "source": [
    "\n",
    "def get_dataset():\n",
    "    train_dataset = load_dataset(\"huggingartists/taylor-swift\", split=\"train\")\n",
    "    return train_dataset"
   ]
  },
  {
   "cell_type": "code",
   "execution_count": 9,
   "id": "699036bd",
   "metadata": {},
   "outputs": [
    {
     "data": {
      "application/vnd.jupyter.widget-view+json": {
       "model_id": "cb2ccccbf4b943abb8cd5da933fe9a20",
       "version_major": 2,
       "version_minor": 0
      },
      "text/plain": [
       "Map:   0%|          | 0/762 [00:00<?, ? examples/s]"
      ]
     },
     "metadata": {},
     "output_type": "display_data"
    },
    {
     "name": "stdout",
     "output_type": "stream",
     "text": [
      "16\n",
      "16\n",
      "16\n",
      "16\n",
      "16\n",
      "16\n",
      "16\n",
      "16\n",
      "16\n",
      "16\n",
      "16\n",
      "16\n",
      "16\n",
      "16\n",
      "16\n",
      "16\n",
      "16\n",
      "16\n",
      "16\n",
      "16\n",
      "16\n",
      "16\n",
      "16\n",
      "16\n",
      "16\n",
      "16\n",
      "16\n",
      "16\n",
      "16\n",
      "16\n",
      "16\n",
      "16\n",
      "16\n",
      "16\n",
      "16\n",
      "16\n",
      "16\n",
      "16\n",
      "16\n",
      "16\n",
      "16\n",
      "16\n",
      "16\n",
      "16\n",
      "16\n",
      "16\n",
      "16\n",
      "10\n"
     ]
    }
   ],
   "source": [
    "train_dataset = get_dataset()\n",
    "# batch_size = len(train_dataset)\n",
    "batch_size = 16\n",
    "\n",
    "train_dataset = train_dataset.map(\n",
    "    process_data_to_model_inputs, \n",
    "    batched=True,\n",
    "    batch_size=batch_size,\n",
    "    remove_columns=['text']\n",
    ")"
   ]
  },
  {
   "cell_type": "code",
   "execution_count": 10,
   "id": "d7a9f4c6",
   "metadata": {},
   "outputs": [
    {
     "data": {
      "text/plain": [
       "Dataset({\n",
       "    features: ['input_ids', 'attention_mask', 'decoder_input_ids', 'decoder_attention_mask', 'labels'],\n",
       "    num_rows: 480\n",
       "})"
      ]
     },
     "execution_count": 10,
     "metadata": {},
     "output_type": "execute_result"
    }
   ],
   "source": [
    "train_dataset"
   ]
  },
  {
   "cell_type": "markdown",
   "id": "5bb0b718",
   "metadata": {},
   "source": [
    "Let's convert the data to PyTorch Tensors"
   ]
  },
  {
   "cell_type": "code",
   "execution_count": 11,
   "id": "d6cfef89",
   "metadata": {},
   "outputs": [],
   "source": [
    "train_dataset.set_format(\n",
    "    type='torch',\n",
    "    columns=['input_ids', 'attention_mask', 'decoder_input_ids', 'decoder_attention_mask', 'labels']\n",
    ")"
   ]
  },
  {
   "cell_type": "code",
   "execution_count": 12,
   "id": "7477b9c1",
   "metadata": {},
   "outputs": [],
   "source": [
    "\"\"\"\n",
    "in model.generate you need to set return_dict_in_generate=False\n",
    "to return torch.LongTensor\n",
    "\"\"\"\n",
    "def sampling_loop(model, input_ids, attention_mask, num_decode_steps=10):\n",
    "    output = model.generate(input_ids, attention_mask=attention_mask, max_new_tokens=num_decode_steps)"
   ]
  },
  {
   "cell_type": "code",
   "execution_count": 13,
   "id": "14e22967",
   "metadata": {},
   "outputs": [],
   "source": [
    "\"\"\"\n",
    "DOING\n",
    "\"\"\"\n",
    "\n",
    "def compute_metrics(pred):\n",
    "    labels = pred.label_ids\n",
    "    preds = pred.predictions.argmax(-1)\n",
    "    precision, recall, f1, _ = precision_recall_fscore_support(labels, preds, average='binary')\n",
    "    acc = accuracy_score(labels, preds)\n",
    "    return {\n",
    "        'accuracy': acc,\n",
    "        'f1': f1,\n",
    "        'precision': precision,\n",
    "        'recall': recall\n",
    "    }"
   ]
  },
  {
   "cell_type": "code",
   "execution_count": 14,
   "id": "07919f6c",
   "metadata": {},
   "outputs": [],
   "source": [
    "import warnings;\n",
    "warnings.filterwarnings('ignore');\n",
    "\n",
    "training_args = Seq2SeqTrainingArguments(\n",
    "    output_dir='./results',  \n",
    "    logging_dir='./logs',\n",
    "    predict_with_generate=True,\n",
    "    evaluation_strategy=\"steps\",\n",
    "    per_device_train_batch_size=batch_size,\n",
    "    per_device_eval_batch_size=batch_size,\n",
    "    num_train_epochs=1,\n",
    "    warmup_steps=500, # number of warmup steps for learning rate scheduler\n",
    "    weight_decay=0.01,\n",
    "    #fp16=True, # not supported on cpu\n",
    "    logging_steps=2,\n",
    "    save_steps=10,\n",
    "    eval_steps=4,\n",
    "    # logging_steps=1000,\n",
    "    # save_steps=500,\n",
    "    # eval_steps=7500,\n",
    "    # warmup_steps=2000,\n",
    "    # save_total_limit=3,\n",
    ")\n",
    "\n",
    "trainer = Trainer(\n",
    "    model=model,                         # the instantiated Transformers model to be trained\n",
    "    args=training_args,                  # training arguments, defined above\n",
    "    train_dataset=train_dataset,         # training dataset\n",
    "    eval_dataset=train_dataset,           # evaluation dataset\n",
    "    tokenizer=tokenizer,                 # tokenizer\n",
    ")"
   ]
  },
  {
   "cell_type": "code",
   "execution_count": 15,
   "id": "ba9bf7aa",
   "metadata": {},
   "outputs": [
    {
     "name": "stdout",
     "output_type": "stream",
     "text": [
      "[2024-09-09 10:36:02,020] [INFO] [real_accelerator.py:203:get_accelerator] Setting ds_accelerator to mps (auto detect)\n"
     ]
    },
    {
     "name": "stderr",
     "output_type": "stream",
     "text": [
      "huggingface/tokenizers: The current process just got forked, after parallelism has already been used. Disabling parallelism to avoid deadlocks...\n",
      "To disable this warning, you can either:\n",
      "\t- Avoid using `tokenizers` before the fork if possible\n",
      "\t- Explicitly set the environment variable TOKENIZERS_PARALLELISM=(true | false)\n",
      "[2024-09-09 10:36:02,638] torch.distributed.elastic.multiprocessing.redirects: [WARNING] NOTE: Redirects are currently not supported in Windows or MacOs.\n"
     ]
    },
    {
     "data": {
      "text/html": [
       "\n",
       "    <div>\n",
       "      \n",
       "      <progress value='30' max='30' style='width:300px; height:20px; vertical-align: middle;'></progress>\n",
       "      [30/30 53:34, Epoch 1/1]\n",
       "    </div>\n",
       "    <table border=\"1\" class=\"dataframe\">\n",
       "  <thead>\n",
       " <tr style=\"text-align: left;\">\n",
       "      <th>Step</th>\n",
       "      <th>Training Loss</th>\n",
       "      <th>Validation Loss</th>\n",
       "    </tr>\n",
       "  </thead>\n",
       "  <tbody>\n",
       "    <tr>\n",
       "      <td>4</td>\n",
       "      <td>12.729000</td>\n",
       "      <td>14.758242</td>\n",
       "    </tr>\n",
       "    <tr>\n",
       "      <td>8</td>\n",
       "      <td>12.264300</td>\n",
       "      <td>14.703562</td>\n",
       "    </tr>\n",
       "    <tr>\n",
       "      <td>12</td>\n",
       "      <td>12.222800</td>\n",
       "      <td>14.606404</td>\n",
       "    </tr>\n",
       "    <tr>\n",
       "      <td>16</td>\n",
       "      <td>12.858000</td>\n",
       "      <td>14.468764</td>\n",
       "    </tr>\n",
       "    <tr>\n",
       "      <td>20</td>\n",
       "      <td>11.768100</td>\n",
       "      <td>14.290671</td>\n",
       "    </tr>\n",
       "    <tr>\n",
       "      <td>24</td>\n",
       "      <td>11.839200</td>\n",
       "      <td>14.079820</td>\n",
       "    </tr>\n",
       "    <tr>\n",
       "      <td>28</td>\n",
       "      <td>12.071500</td>\n",
       "      <td>13.834391</td>\n",
       "    </tr>\n",
       "  </tbody>\n",
       "</table><p>"
      ],
      "text/plain": [
       "<IPython.core.display.HTML object>"
      ]
     },
     "metadata": {},
     "output_type": "display_data"
    },
    {
     "data": {
      "text/plain": [
       "TrainOutput(global_step=30, training_loss=12.152020899454753, metrics={'train_runtime': 3275.2155, 'train_samples_per_second': 0.147, 'train_steps_per_second': 0.009, 'total_flos': 64964064706560.0, 'train_loss': 12.152020899454753, 'epoch': 1.0})"
      ]
     },
     "execution_count": 15,
     "metadata": {},
     "output_type": "execute_result"
    }
   ],
   "source": [
    "trainer.train()"
   ]
  },
  {
   "cell_type": "code",
   "execution_count": 16,
   "id": "4894edf7",
   "metadata": {},
   "outputs": [
    {
     "data": {
      "text/html": [
       "\n",
       "    <div>\n",
       "      \n",
       "      <progress value='30' max='30' style='width:300px; height:20px; vertical-align: middle;'></progress>\n",
       "      [30/30 03:55]\n",
       "    </div>\n",
       "    "
      ],
      "text/plain": [
       "<IPython.core.display.HTML object>"
      ]
     },
     "metadata": {},
     "output_type": "display_data"
    },
    {
     "data": {
      "text/plain": [
       "{'eval_loss': 13.698516845703125,\n",
       " 'eval_runtime': 243.4815,\n",
       " 'eval_samples_per_second': 1.971,\n",
       " 'eval_steps_per_second': 0.123,\n",
       " 'epoch': 1.0}"
      ]
     },
     "execution_count": 16,
     "metadata": {},
     "output_type": "execute_result"
    }
   ],
   "source": [
    "trainer.evaluate()"
   ]
  },
  {
   "cell_type": "code",
   "execution_count": 17,
   "id": "58327403-ac09-4bae-8845-db0951af2970",
   "metadata": {},
   "outputs": [
    {
     "data": {
      "text/plain": [
       "[{'loss': 12.6925,\n",
       "  'grad_norm': 52.2101936340332,\n",
       "  'learning_rate': 2.0000000000000002e-07,\n",
       "  'epoch': 0.06666666666666667,\n",
       "  'step': 2},\n",
       " {'loss': 12.729,\n",
       "  'grad_norm': 372.35455322265625,\n",
       "  'learning_rate': 4.0000000000000003e-07,\n",
       "  'epoch': 0.13333333333333333,\n",
       "  'step': 4},\n",
       " {'eval_loss': 14.758241653442383,\n",
       "  'eval_runtime': 211.6483,\n",
       "  'eval_samples_per_second': 2.268,\n",
       "  'eval_steps_per_second': 0.142,\n",
       "  'epoch': 0.13333333333333333,\n",
       "  'step': 4},\n",
       " {'loss': 12.1748,\n",
       "  'grad_norm': 47.49269104003906,\n",
       "  'learning_rate': 6.000000000000001e-07,\n",
       "  'epoch': 0.2,\n",
       "  'step': 6},\n",
       " {'loss': 12.2643,\n",
       "  'grad_norm': 41.978885650634766,\n",
       "  'learning_rate': 8.000000000000001e-07,\n",
       "  'epoch': 0.26666666666666666,\n",
       "  'step': 8},\n",
       " {'eval_loss': 14.703561782836914,\n",
       "  'eval_runtime': 230.2332,\n",
       "  'eval_samples_per_second': 2.085,\n",
       "  'eval_steps_per_second': 0.13,\n",
       "  'epoch': 0.26666666666666666,\n",
       "  'step': 8},\n",
       " {'loss': 11.871,\n",
       "  'grad_norm': 39.07783508300781,\n",
       "  'learning_rate': 1.0000000000000002e-06,\n",
       "  'epoch': 0.3333333333333333,\n",
       "  'step': 10},\n",
       " {'loss': 12.2228,\n",
       "  'grad_norm': 46.04683303833008,\n",
       "  'learning_rate': 1.2000000000000002e-06,\n",
       "  'epoch': 0.4,\n",
       "  'step': 12},\n",
       " {'eval_loss': 14.606404304504395,\n",
       "  'eval_runtime': 217.1058,\n",
       "  'eval_samples_per_second': 2.211,\n",
       "  'eval_steps_per_second': 0.138,\n",
       "  'epoch': 0.4,\n",
       "  'step': 12},\n",
       " {'loss': 12.3258,\n",
       "  'grad_norm': 43.89243698120117,\n",
       "  'learning_rate': 1.4000000000000001e-06,\n",
       "  'epoch': 0.4666666666666667,\n",
       "  'step': 14},\n",
       " {'loss': 12.858,\n",
       "  'grad_norm': 46.93556213378906,\n",
       "  'learning_rate': 1.6000000000000001e-06,\n",
       "  'epoch': 0.5333333333333333,\n",
       "  'step': 16},\n",
       " {'eval_loss': 14.468764305114746,\n",
       "  'eval_runtime': 240.3283,\n",
       "  'eval_samples_per_second': 1.997,\n",
       "  'eval_steps_per_second': 0.125,\n",
       "  'epoch': 0.5333333333333333,\n",
       "  'step': 16},\n",
       " {'loss': 12.1183,\n",
       "  'grad_norm': 39.8522834777832,\n",
       "  'learning_rate': 1.8e-06,\n",
       "  'epoch': 0.6,\n",
       "  'step': 18},\n",
       " {'loss': 11.7681,\n",
       "  'grad_norm': 39.17918014526367,\n",
       "  'learning_rate': 2.0000000000000003e-06,\n",
       "  'epoch': 0.6666666666666666,\n",
       "  'step': 20},\n",
       " {'eval_loss': 14.290671348571777,\n",
       "  'eval_runtime': 220.1284,\n",
       "  'eval_samples_per_second': 2.181,\n",
       "  'eval_steps_per_second': 0.136,\n",
       "  'epoch': 0.6666666666666666,\n",
       "  'step': 20},\n",
       " {'loss': 11.7103,\n",
       "  'grad_norm': 121.06211853027344,\n",
       "  'learning_rate': 2.2e-06,\n",
       "  'epoch': 0.7333333333333333,\n",
       "  'step': 22},\n",
       " {'loss': 11.8392,\n",
       "  'grad_norm': 44.87540817260742,\n",
       "  'learning_rate': 2.4000000000000003e-06,\n",
       "  'epoch': 0.8,\n",
       "  'step': 24},\n",
       " {'eval_loss': 14.079819679260254,\n",
       "  'eval_runtime': 241.619,\n",
       "  'eval_samples_per_second': 1.987,\n",
       "  'eval_steps_per_second': 0.124,\n",
       "  'epoch': 0.8,\n",
       "  'step': 24},\n",
       " {'loss': 11.814,\n",
       "  'grad_norm': 45.05817413330078,\n",
       "  'learning_rate': 2.6e-06,\n",
       "  'epoch': 0.8666666666666667,\n",
       "  'step': 26},\n",
       " {'loss': 12.0715,\n",
       "  'grad_norm': 36.723960876464844,\n",
       "  'learning_rate': 2.8000000000000003e-06,\n",
       "  'epoch': 0.9333333333333333,\n",
       "  'step': 28},\n",
       " {'eval_loss': 13.834390640258789,\n",
       "  'eval_runtime': 230.3119,\n",
       "  'eval_samples_per_second': 2.084,\n",
       "  'eval_steps_per_second': 0.13,\n",
       "  'epoch': 0.9333333333333333,\n",
       "  'step': 28},\n",
       " {'loss': 11.8208,\n",
       "  'grad_norm': 37.95154571533203,\n",
       "  'learning_rate': 3e-06,\n",
       "  'epoch': 1.0,\n",
       "  'step': 30},\n",
       " {'train_runtime': 3275.2155,\n",
       "  'train_samples_per_second': 0.147,\n",
       "  'train_steps_per_second': 0.009,\n",
       "  'total_flos': 64964064706560.0,\n",
       "  'train_loss': 12.152020899454753,\n",
       "  'epoch': 1.0,\n",
       "  'step': 30},\n",
       " {'eval_loss': 13.698516845703125,\n",
       "  'eval_runtime': 243.4815,\n",
       "  'eval_samples_per_second': 1.971,\n",
       "  'eval_steps_per_second': 0.123,\n",
       "  'epoch': 1.0,\n",
       "  'step': 30}]"
      ]
     },
     "execution_count": 17,
     "metadata": {},
     "output_type": "execute_result"
    }
   ],
   "source": [
    "trainer.state.log_history"
   ]
  },
  {
   "cell_type": "code",
   "execution_count": 22,
   "id": "3e0e8f7b-bc22-4c81-93e9-3afecf725a43",
   "metadata": {},
   "outputs": [],
   "source": [
    "logs = trainer.state.log_history"
   ]
  },
  {
   "cell_type": "code",
   "execution_count": 23,
   "id": "b67ca8f4-2b4b-4a4f-ad8d-68ca677d88fa",
   "metadata": {},
   "outputs": [],
   "source": [
    "import pickle"
   ]
  },
  {
   "cell_type": "code",
   "execution_count": 24,
   "id": "3b43fcca-4669-484c-aba4-bec7e9105cc4",
   "metadata": {},
   "outputs": [],
   "source": [
    "with open('training_logs_example', 'wb') as handle:\n",
    "    pickle.dump(logs, handle, protocol=pickle.HIGHEST_PROTOCOL)"
   ]
  },
  {
   "cell_type": "code",
   "execution_count": null,
   "id": "c037b2a2-c5de-4e18-9ecc-888be3e3c1d3",
   "metadata": {},
   "outputs": [],
   "source": []
  }
 ],
 "metadata": {
  "kernelspec": {
   "display_name": "Python 3 (ipykernel)",
   "language": "python",
   "name": "python3"
  },
  "language_info": {
   "codemirror_mode": {
    "name": "ipython",
    "version": 3
   },
   "file_extension": ".py",
   "mimetype": "text/x-python",
   "name": "python",
   "nbconvert_exporter": "python",
   "pygments_lexer": "ipython3",
   "version": "3.10.13"
  }
 },
 "nbformat": 4,
 "nbformat_minor": 5
}
