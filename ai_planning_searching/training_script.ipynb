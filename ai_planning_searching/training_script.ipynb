{
 "cells": [
  {
   "cell_type": "code",
   "execution_count": 5,
   "id": "d252299f-432c-4333-ae15-7f1eaf7715af",
   "metadata": {},
   "outputs": [],
   "source": [
    "import numpy as np\n",
    "import torch\n",
    "from torch.nn import functional as F\n",
    "import transformers\n",
    "import pdb\n",
    "from datasets import load_dataset\n",
    "from transformers import get_linear_schedule_with_warmup\n",
    "from transformers import AdamW\n",
    "from transformers import GPT2LMHeadModel\n",
    "from transformers import GPT2TokenizerFast"
   ]
  },
  {
   "cell_type": "code",
   "execution_count": 6,
   "id": "567483da-74a3-42e8-8138-9d429f8faef6",
   "metadata": {},
   "outputs": [],
   "source": [
    "def get_dataset():\n",
    "    train_dataset = load_dataset(\"rotten_tomatoes\", split=\"train\")\n",
    "    eval_dataset = load_dataset(\"rotten_tomatoes\", split=\"validation\")"
   ]
  },
  {
   "cell_type": "code",
   "execution_count": 7,
   "id": "0311196a-0c4c-467b-9682-79efe92aadc4",
   "metadata": {},
   "outputs": [],
   "source": [
    "def load_init_model_and_optimizer():\n",
    "    pass"
   ]
  },
  {
   "cell_type": "code",
   "execution_count": null,
   "id": "ca33e734-ecba-4538-8c55-018dd9096baa",
   "metadata": {},
   "outputs": [],
   "source": []
  }
 ],
 "metadata": {
  "kernelspec": {
   "display_name": "Python 3 (ipykernel)",
   "language": "python",
   "name": "python3"
  },
  "language_info": {
   "codemirror_mode": {
    "name": "ipython",
    "version": 3
   },
   "file_extension": ".py",
   "mimetype": "text/x-python",
   "name": "python",
   "nbconvert_exporter": "python",
   "pygments_lexer": "ipython3",
   "version": "3.10.14"
  }
 },
 "nbformat": 4,
 "nbformat_minor": 5
}
