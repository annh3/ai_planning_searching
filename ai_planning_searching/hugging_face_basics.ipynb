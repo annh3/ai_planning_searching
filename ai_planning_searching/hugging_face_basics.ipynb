{
 "cells": [
  {
   "cell_type": "code",
   "execution_count": 1,
   "id": "b12ff14d-2f3e-4293-8648-a0a72e8ef26f",
   "metadata": {},
   "outputs": [
    {
     "name": "stderr",
     "output_type": "stream",
     "text": [
      "/Users/annhe/anaconda3/envs/q_star/lib/python3.9/site-packages/tqdm/auto.py:21: TqdmWarning: IProgress not found. Please update jupyter and ipywidgets. See https://ipywidgets.readthedocs.io/en/stable/user_install.html\n",
      "  from .autonotebook import tqdm as notebook_tqdm\n",
      "/Users/annhe/anaconda3/envs/q_star/lib/python3.9/site-packages/torchvision/io/image.py:13: UserWarning: Failed to load image Python extension: 'dlopen(/Users/annhe/anaconda3/envs/q_star/lib/python3.9/site-packages/torchvision/image.so, 6): Symbol not found: __ZN3c1017RegisterOperatorsD1Ev\n",
      "  Referenced from: /Users/annhe/anaconda3/envs/q_star/lib/python3.9/site-packages/torchvision/image.so\n",
      "  Expected in: /Users/annhe/anaconda3/envs/q_star/lib/python3.9/site-packages/torch/lib/libtorch_cpu.dylib\n",
      " in /Users/annhe/anaconda3/envs/q_star/lib/python3.9/site-packages/torchvision/image.so'If you don't plan on using image functionality from `torchvision.io`, you can ignore this warning. Otherwise, there might be something wrong with your environment. Did you have `libjpeg` or `libpng` installed before building `torchvision` from source?\n",
      "  warn(\n"
     ]
    }
   ],
   "source": [
    "import numpy as np\n",
    "import torch\n",
    "import collections\n",
    "import json\n",
    "import transformers\n",
    "from transformers import pipeline, set_seed\n",
    "\n",
    "tokenizer = transformers.AutoTokenizer.from_pretrained('gpt2')\n",
    "lm = transformers.AutoModelForCausalLM.from_pretrained('gpt2')"
   ]
  },
  {
   "cell_type": "code",
   "execution_count": 22,
   "id": "2d24943d-700a-4f46-822d-d46adbec8f2c",
   "metadata": {},
   "outputs": [
    {
     "name": "stdout",
     "output_type": "stream",
     "text": [
      "{'input_ids': tensor([[15496,   220]]), 'attention_mask': tensor([[1, 1]])}\n"
     ]
    }
   ],
   "source": [
    "tokens = tokenizer(\"Hello \", return_tensors='pt')\n",
    "print(tokens)"
   ]
  },
  {
   "cell_type": "code",
   "execution_count": 23,
   "id": "0836b39b-bbee-4470-8409-e54293bde09b",
   "metadata": {},
   "outputs": [
    {
     "name": "stderr",
     "output_type": "stream",
     "text": [
      "The attention mask and the pad token id were not set. As a consequence, you may observe unexpected behavior. Please pass your input's `attention_mask` to obtain reliable results.\n",
      "Setting `pad_token_id` to `eos_token_id`:50256 for open-end generation.\n"
     ]
    }
   ],
   "source": [
    "k = 5\n",
    "beam_output = lm.generate(\n",
    "    tokens['input_ids'],\n",
    "    max_new_tokens=1,\n",
    "    num_beams=k,\n",
    "    num_return_sequences=k,\n",
    "    return_dict_in_generate=True,\n",
    "    output_logits=True,\n",
    "    output_scores=True,\n",
    "    early_stopping=True)"
   ]
  },
  {
   "cell_type": "code",
   "execution_count": 24,
   "id": "ed0657ac-b0d4-4e44-863e-1c96f6e84507",
   "metadata": {},
   "outputs": [
    {
     "name": "stdout",
     "output_type": "stream",
     "text": [
      "tensor([-2.0736, -2.3311, -3.0310, -3.0803, -3.3449])\n"
     ]
    }
   ],
   "source": [
    "print(beam_output.sequences_scores)\n",
    "\n",
    "# how sequences_scores are computed\n",
    "# https://discuss.huggingface.co/t/announcement-generation-get-probabilities-for-generated-output/30075"
   ]
  },
  {
   "cell_type": "code",
   "execution_count": 25,
   "id": "f66b72e6-ced9-4ee1-b7e4-7856f42dc41f",
   "metadata": {},
   "outputs": [
    {
     "name": "stdout",
     "output_type": "stream",
     "text": [
      "odict_keys(['sequences', 'sequences_scores', 'scores', 'logits', 'beam_indices', 'past_key_values'])\n"
     ]
    }
   ],
   "source": [
    "# testing logits_to_token_strings\n",
    "\n",
    "print(beam_output.keys())"
   ]
  },
  {
   "cell_type": "code",
   "execution_count": 26,
   "id": "a399d9e6-872e-4712-88ce-061d1234409a",
   "metadata": {},
   "outputs": [
    {
     "name": "stdout",
     "output_type": "stream",
     "text": [
      "torch.Size([5, 50257])\n"
     ]
    }
   ],
   "source": [
    "print(beam_output.logits[0].shape)"
   ]
  },
  {
   "cell_type": "code",
   "execution_count": 46,
   "id": "fb358598-8b07-4c1f-b84c-091e9eadfb5c",
   "metadata": {},
   "outputs": [],
   "source": [
    "def logits_to_token_strings(logits):\n",
    "    print(logits.shape)\n",
    "    next_tokens = torch.log_softmax(beam_output.logits[0], dim=1)\n",
    "    next_tokens = torch.argmax(next_tokens, dim=1)\n",
    "    str_repr = tokenizer.batch_decode(next_tokens)\n",
    "    next_tokens = list(torch.chunk(next_tokens,chunks=5,dim=0))\n",
    "    return next_tokens, str_repr"
   ]
  },
  {
   "cell_type": "code",
   "execution_count": 47,
   "id": "f5446c8a-5ae3-4bb5-b0e5-a94f690c7fed",
   "metadata": {},
   "outputs": [
    {
     "name": "stdout",
     "output_type": "stream",
     "text": [
      "torch.Size([5, 50257])\n",
      "tensor([2474, 2474, 2474, 2474, 2474])\n",
      "['!\"', '!\"', '!\"', '!\"', '!\"']\n"
     ]
    }
   ],
   "source": [
    "next_tokens, str_repr = logits_to_token_strings(beam_output.logits[0])\n",
    "print(str_repr)"
   ]
  },
  {
   "cell_type": "code",
   "execution_count": 45,
   "id": "c6df82fd-fa9a-4645-9393-b8602d96a4d8",
   "metadata": {},
   "outputs": [
    {
     "name": "stdout",
     "output_type": "stream",
     "text": [
      "[tensor([2474]), tensor([2474]), tensor([2474]), tensor([2474]), tensor([2474])]\n"
     ]
    }
   ],
   "source": [
    "print(next_tokens)"
   ]
  },
  {
   "cell_type": "code",
   "execution_count": null,
   "id": "03d1f0a4-e6d8-4043-9a55-2b1ce9184d9e",
   "metadata": {},
   "outputs": [],
   "source": []
  }
 ],
 "metadata": {
  "kernelspec": {
   "display_name": "Python 3 (ipykernel)",
   "language": "python",
   "name": "python3"
  },
  "language_info": {
   "codemirror_mode": {
    "name": "ipython",
    "version": 3
   },
   "file_extension": ".py",
   "mimetype": "text/x-python",
   "name": "python",
   "nbconvert_exporter": "python",
   "pygments_lexer": "ipython3",
   "version": "3.9.19"
  }
 },
 "nbformat": 4,
 "nbformat_minor": 5
}
